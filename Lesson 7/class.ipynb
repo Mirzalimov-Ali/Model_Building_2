{
 "cells": [
  {
   "cell_type": "code",
   "execution_count": 16,
   "id": "9a65f583",
   "metadata": {},
   "outputs": [],
   "source": [
    "class Info:\n",
    "    def __init__(self, name, age, height, favorite_sport, hobby):\n",
    "        self.name = name\n",
    "        self.age = age\n",
    "        self.height = height\n",
    "        self.favorite_sport = favorite_sport\n",
    "        self.hobby = hobby\n",
    "    def getName(self):\n",
    "        return f\"name: {self.name}\"\n",
    "    def getAge(self):\n",
    "        return f\"age: {self.age}\"\n",
    "    def getHeight(self):\n",
    "        return f\"height: {self.height}\"\n",
    "    def getSport(self):\n",
    "        return f\"favorite sport: {self.favorite_sport}\"\n",
    "    def getHobby(self):\n",
    "        return f\"hobby: {self.hobby}\""
   ]
  },
  {
   "cell_type": "code",
   "execution_count": 18,
   "id": "c7738114",
   "metadata": {},
   "outputs": [
    {
     "name": "stdout",
     "output_type": "stream",
     "text": [
      "name: Ali\n",
      "age: 15\n",
      "height: 174\n",
      "favorite sport: UFC\n",
      "hobby: Gym\n"
     ]
    }
   ],
   "source": [
    "info = Info(name='Ali', age=15, height=174, favorite_sport='UFC', hobby='Gym')\n",
    "\n",
    "print(info.getName())\n",
    "print(info.getAge())\n",
    "print(info.getHeight())\n",
    "print(info.getSport())\n",
    "print(info.getHobby())"
   ]
  }
 ],
 "metadata": {
  "kernelspec": {
   "display_name": "Python 3",
   "language": "python",
   "name": "python3"
  },
  "language_info": {
   "codemirror_mode": {
    "name": "ipython",
    "version": 3
   },
   "file_extension": ".py",
   "mimetype": "text/x-python",
   "name": "python",
   "nbconvert_exporter": "python",
   "pygments_lexer": "ipython3",
   "version": "3.11.9"
  }
 },
 "nbformat": 4,
 "nbformat_minor": 5
}

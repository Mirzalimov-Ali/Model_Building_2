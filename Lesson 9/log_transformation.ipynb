{
 "cells": [
  {
   "cell_type": "code",
   "execution_count": 292,
   "id": "1947cd0a",
   "metadata": {},
   "outputs": [],
   "source": [
    "import pandas as pd\n",
    "from sklearn.preprocessing import LabelEncoder, MinMaxScaler"
   ]
  },
  {
   "cell_type": "code",
   "execution_count": 293,
   "id": "89634a6a",
   "metadata": {},
   "outputs": [],
   "source": [
    "df = pd.read_csv('synthetic_health_lifestyle_dataset.csv')"
   ]
  },
  {
   "cell_type": "code",
   "execution_count": 294,
   "id": "0ca10e50",
   "metadata": {},
   "outputs": [
    {
     "name": "stdout",
     "output_type": "stream",
     "text": [
      "<class 'pandas.core.frame.DataFrame'>\n",
      "RangeIndex: 1000 entries, 0 to 999\n",
      "Data columns (total 12 columns):\n",
      " #   Column               Non-Null Count  Dtype  \n",
      "---  ------               --------------  -----  \n",
      " 0   ID                   1000 non-null   int64  \n",
      " 1   Age                  998 non-null    float64\n",
      " 2   Gender               999 non-null    object \n",
      " 3   Height_cm            995 non-null    float64\n",
      " 4   Weight_kg            1000 non-null   float64\n",
      " 5   BMI                  996 non-null    float64\n",
      " 6   Smoker               1000 non-null   object \n",
      " 7   Diet_Quality         998 non-null    object \n",
      " 8   Alcohol_Consumption  749 non-null    object \n",
      " 9   Chronic_Disease      996 non-null    object \n",
      " 10  Stress_Level         1000 non-null   int64  \n",
      " 11  Sleep_Hours          999 non-null    float64\n",
      "dtypes: float64(5), int64(2), object(5)\n",
      "memory usage: 93.9+ KB\n"
     ]
    }
   ],
   "source": [
    "df.info()"
   ]
  },
  {
   "cell_type": "code",
   "execution_count": 295,
   "id": "3f94ee2c",
   "metadata": {},
   "outputs": [],
   "source": [
    "df['Chronic_Disease'] = df['Chronic_Disease'].map({'No': 0, 'Yes': 1})"
   ]
  },
  {
   "cell_type": "code",
   "execution_count": 296,
   "id": "846e4bc4",
   "metadata": {},
   "outputs": [],
   "source": [
    "class DataPreprocessing:\n",
    "    def __init__(self, df):\n",
    "        self.df = df.copy()\n",
    "        self.encoder = LabelEncoder()\n",
    "        self.scaler = MinMaxScaler()\n",
    "    \n",
    "    def fillMissingValues(self):\n",
    "        for col in self.df.columns:\n",
    "            if self.df[col].isnull().any():\n",
    "                if self.df[col].dtype == 'object':\n",
    "                    self.df[col].fillna(self.df[col].mode()[0], inplace=True)\n",
    "                else:\n",
    "                    self.df[col].fillna(self.df[col].mean(), inplace=True)\n",
    "        return self\n",
    "    \n",
    "    def encode(self):\n",
    "        for col in self.df.columns:\n",
    "            if self.df[col].dtype == 'object':\n",
    "                if self.df[col].nunique() <= 5:\n",
    "                    dummies = pd.get_dummies(self.df[col], prefix=col, dtype=int)\n",
    "                    self.df = pd.concat([self.df.drop(columns=[col]), dummies], axis=1)\n",
    "                else:\n",
    "                    self.df[col] = self.encoder.fit_transform(self.df[col])\n",
    "        return self\n",
    "    \n",
    "    def scale(self):\n",
    "        num_col = self.df.select_dtypes(include=['float64', 'int64']).columns.drop('Chronic_Disease')\n",
    "        self.df[num_col] = self.scaler.fit_transform(self.df[num_col])\n",
    "        return self\n",
    "    \n",
    "    def dataset(self):\n",
    "        return self.df"
   ]
  },
  {
   "cell_type": "code",
   "execution_count": 297,
   "id": "7f9a1e41",
   "metadata": {},
   "outputs": [
    {
     "name": "stderr",
     "output_type": "stream",
     "text": [
      "C:\\Users\\user\\AppData\\Local\\Temp\\ipykernel_18720\\207625836.py:13: FutureWarning: A value is trying to be set on a copy of a DataFrame or Series through chained assignment using an inplace method.\n",
      "The behavior will change in pandas 3.0. This inplace method will never work because the intermediate object on which we are setting values always behaves as a copy.\n",
      "\n",
      "For example, when doing 'df[col].method(value, inplace=True)', try using 'df.method({col: value}, inplace=True)' or df[col] = df[col].method(value) instead, to perform the operation inplace on the original object.\n",
      "\n",
      "\n",
      "  self.df[col].fillna(self.df[col].mean(), inplace=True)\n",
      "C:\\Users\\user\\AppData\\Local\\Temp\\ipykernel_18720\\207625836.py:11: FutureWarning: A value is trying to be set on a copy of a DataFrame or Series through chained assignment using an inplace method.\n",
      "The behavior will change in pandas 3.0. This inplace method will never work because the intermediate object on which we are setting values always behaves as a copy.\n",
      "\n",
      "For example, when doing 'df[col].method(value, inplace=True)', try using 'df.method({col: value}, inplace=True)' or df[col] = df[col].method(value) instead, to perform the operation inplace on the original object.\n",
      "\n",
      "\n",
      "  self.df[col].fillna(self.df[col].mode()[0], inplace=True)\n"
     ]
    }
   ],
   "source": [
    "preprocessing = DataPreprocessing(df)\n",
    "df = preprocessing.fillMissingValues().encode().scale().dataset()"
   ]
  },
  {
   "cell_type": "code",
   "execution_count": 298,
   "id": "f8eba43b",
   "metadata": {},
   "outputs": [
    {
     "data": {
      "text/html": [
       "<div>\n",
       "<style scoped>\n",
       "    .dataframe tbody tr th:only-of-type {\n",
       "        vertical-align: middle;\n",
       "    }\n",
       "\n",
       "    .dataframe tbody tr th {\n",
       "        vertical-align: top;\n",
       "    }\n",
       "\n",
       "    .dataframe thead th {\n",
       "        text-align: right;\n",
       "    }\n",
       "</style>\n",
       "<table border=\"1\" class=\"dataframe\">\n",
       "  <thead>\n",
       "    <tr style=\"text-align: right;\">\n",
       "      <th></th>\n",
       "      <th>ID</th>\n",
       "      <th>Age</th>\n",
       "      <th>Height_cm</th>\n",
       "      <th>Weight_kg</th>\n",
       "      <th>BMI</th>\n",
       "      <th>Chronic_Disease</th>\n",
       "      <th>Stress_Level</th>\n",
       "      <th>Sleep_Hours</th>\n",
       "      <th>Gender_Female</th>\n",
       "      <th>Gender_Male</th>\n",
       "      <th>Gender_Other</th>\n",
       "      <th>Smoker_No</th>\n",
       "      <th>Smoker_Yes</th>\n",
       "      <th>Diet_Quality_Average</th>\n",
       "      <th>Diet_Quality_Excellent</th>\n",
       "      <th>Diet_Quality_Good</th>\n",
       "      <th>Diet_Quality_Poor</th>\n",
       "      <th>Alcohol_Consumption_High</th>\n",
       "      <th>Alcohol_Consumption_Low</th>\n",
       "      <th>Alcohol_Consumption_Moderate</th>\n",
       "    </tr>\n",
       "  </thead>\n",
       "  <tbody>\n",
       "    <tr>\n",
       "      <th>0</th>\n",
       "      <td>0.000000</td>\n",
       "      <td>0.745098</td>\n",
       "      <td>0.718462</td>\n",
       "      <td>0.093049</td>\n",
       "      <td>0.0500</td>\n",
       "      <td>0.0</td>\n",
       "      <td>0.888889</td>\n",
       "      <td>0.673684</td>\n",
       "      <td>0.0</td>\n",
       "      <td>0.0</td>\n",
       "      <td>1.0</td>\n",
       "      <td>0.0</td>\n",
       "      <td>1.0</td>\n",
       "      <td>0.0</td>\n",
       "      <td>0.0</td>\n",
       "      <td>0.0</td>\n",
       "      <td>1.0</td>\n",
       "      <td>1.0</td>\n",
       "      <td>0.0</td>\n",
       "      <td>0.0</td>\n",
       "    </tr>\n",
       "    <tr>\n",
       "      <th>1</th>\n",
       "      <td>0.001001</td>\n",
       "      <td>1.000000</td>\n",
       "      <td>0.590769</td>\n",
       "      <td>0.467489</td>\n",
       "      <td>0.3725</td>\n",
       "      <td>0.0</td>\n",
       "      <td>0.111111</td>\n",
       "      <td>0.400000</td>\n",
       "      <td>0.0</td>\n",
       "      <td>0.0</td>\n",
       "      <td>1.0</td>\n",
       "      <td>1.0</td>\n",
       "      <td>0.0</td>\n",
       "      <td>0.0</td>\n",
       "      <td>0.0</td>\n",
       "      <td>1.0</td>\n",
       "      <td>0.0</td>\n",
       "      <td>1.0</td>\n",
       "      <td>0.0</td>\n",
       "      <td>0.0</td>\n",
       "    </tr>\n",
       "    <tr>\n",
       "      <th>2</th>\n",
       "      <td>0.002002</td>\n",
       "      <td>0.549020</td>\n",
       "      <td>0.433846</td>\n",
       "      <td>0.448430</td>\n",
       "      <td>0.4375</td>\n",
       "      <td>0.0</td>\n",
       "      <td>0.222222</td>\n",
       "      <td>0.284211</td>\n",
       "      <td>1.0</td>\n",
       "      <td>0.0</td>\n",
       "      <td>0.0</td>\n",
       "      <td>1.0</td>\n",
       "      <td>0.0</td>\n",
       "      <td>0.0</td>\n",
       "      <td>1.0</td>\n",
       "      <td>0.0</td>\n",
       "      <td>0.0</td>\n",
       "      <td>0.0</td>\n",
       "      <td>0.0</td>\n",
       "      <td>1.0</td>\n",
       "    </tr>\n",
       "    <tr>\n",
       "      <th>3</th>\n",
       "      <td>0.003003</td>\n",
       "      <td>0.274510</td>\n",
       "      <td>0.610769</td>\n",
       "      <td>0.531390</td>\n",
       "      <td>0.4125</td>\n",
       "      <td>0.0</td>\n",
       "      <td>0.888889</td>\n",
       "      <td>0.473684</td>\n",
       "      <td>0.0</td>\n",
       "      <td>1.0</td>\n",
       "      <td>0.0</td>\n",
       "      <td>1.0</td>\n",
       "      <td>0.0</td>\n",
       "      <td>0.0</td>\n",
       "      <td>1.0</td>\n",
       "      <td>0.0</td>\n",
       "      <td>0.0</td>\n",
       "      <td>0.0</td>\n",
       "      <td>0.0</td>\n",
       "      <td>1.0</td>\n",
       "    </tr>\n",
       "    <tr>\n",
       "      <th>4</th>\n",
       "      <td>0.004004</td>\n",
       "      <td>0.823529</td>\n",
       "      <td>0.423077</td>\n",
       "      <td>0.352018</td>\n",
       "      <td>0.3575</td>\n",
       "      <td>1.0</td>\n",
       "      <td>0.555556</td>\n",
       "      <td>0.421053</td>\n",
       "      <td>0.0</td>\n",
       "      <td>1.0</td>\n",
       "      <td>0.0</td>\n",
       "      <td>1.0</td>\n",
       "      <td>0.0</td>\n",
       "      <td>0.0</td>\n",
       "      <td>1.0</td>\n",
       "      <td>0.0</td>\n",
       "      <td>0.0</td>\n",
       "      <td>0.0</td>\n",
       "      <td>1.0</td>\n",
       "      <td>0.0</td>\n",
       "    </tr>\n",
       "    <tr>\n",
       "      <th>5</th>\n",
       "      <td>0.005005</td>\n",
       "      <td>0.137255</td>\n",
       "      <td>0.566154</td>\n",
       "      <td>0.369955</td>\n",
       "      <td>0.3050</td>\n",
       "      <td>0.0</td>\n",
       "      <td>0.000000</td>\n",
       "      <td>0.389474</td>\n",
       "      <td>1.0</td>\n",
       "      <td>0.0</td>\n",
       "      <td>0.0</td>\n",
       "      <td>1.0</td>\n",
       "      <td>0.0</td>\n",
       "      <td>0.0</td>\n",
       "      <td>0.0</td>\n",
       "      <td>1.0</td>\n",
       "      <td>0.0</td>\n",
       "      <td>0.0</td>\n",
       "      <td>0.0</td>\n",
       "      <td>1.0</td>\n",
       "    </tr>\n",
       "    <tr>\n",
       "      <th>6</th>\n",
       "      <td>0.006006</td>\n",
       "      <td>0.392157</td>\n",
       "      <td>0.332308</td>\n",
       "      <td>0.661435</td>\n",
       "      <td>0.7000</td>\n",
       "      <td>1.0</td>\n",
       "      <td>0.111111</td>\n",
       "      <td>0.389474</td>\n",
       "      <td>0.0</td>\n",
       "      <td>0.0</td>\n",
       "      <td>1.0</td>\n",
       "      <td>1.0</td>\n",
       "      <td>0.0</td>\n",
       "      <td>0.0</td>\n",
       "      <td>0.0</td>\n",
       "      <td>1.0</td>\n",
       "      <td>0.0</td>\n",
       "      <td>1.0</td>\n",
       "      <td>0.0</td>\n",
       "      <td>0.0</td>\n",
       "    </tr>\n",
       "    <tr>\n",
       "      <th>7</th>\n",
       "      <td>0.007007</td>\n",
       "      <td>0.505992</td>\n",
       "      <td>0.529231</td>\n",
       "      <td>0.403587</td>\n",
       "      <td>0.3500</td>\n",
       "      <td>0.0</td>\n",
       "      <td>0.666667</td>\n",
       "      <td>0.494737</td>\n",
       "      <td>0.0</td>\n",
       "      <td>1.0</td>\n",
       "      <td>0.0</td>\n",
       "      <td>1.0</td>\n",
       "      <td>0.0</td>\n",
       "      <td>0.0</td>\n",
       "      <td>0.0</td>\n",
       "      <td>1.0</td>\n",
       "      <td>0.0</td>\n",
       "      <td>0.0</td>\n",
       "      <td>0.0</td>\n",
       "      <td>1.0</td>\n",
       "    </tr>\n",
       "    <tr>\n",
       "      <th>8</th>\n",
       "      <td>0.008008</td>\n",
       "      <td>0.352941</td>\n",
       "      <td>0.707692</td>\n",
       "      <td>0.137892</td>\n",
       "      <td>0.0850</td>\n",
       "      <td>0.0</td>\n",
       "      <td>0.555556</td>\n",
       "      <td>0.442105</td>\n",
       "      <td>0.0</td>\n",
       "      <td>1.0</td>\n",
       "      <td>0.0</td>\n",
       "      <td>1.0</td>\n",
       "      <td>0.0</td>\n",
       "      <td>1.0</td>\n",
       "      <td>0.0</td>\n",
       "      <td>0.0</td>\n",
       "      <td>0.0</td>\n",
       "      <td>1.0</td>\n",
       "      <td>0.0</td>\n",
       "      <td>0.0</td>\n",
       "    </tr>\n",
       "    <tr>\n",
       "      <th>9</th>\n",
       "      <td>0.009009</td>\n",
       "      <td>0.431373</td>\n",
       "      <td>0.478462</td>\n",
       "      <td>0.542601</td>\n",
       "      <td>0.4925</td>\n",
       "      <td>1.0</td>\n",
       "      <td>0.000000</td>\n",
       "      <td>0.368421</td>\n",
       "      <td>0.0</td>\n",
       "      <td>0.0</td>\n",
       "      <td>1.0</td>\n",
       "      <td>0.0</td>\n",
       "      <td>1.0</td>\n",
       "      <td>0.0</td>\n",
       "      <td>0.0</td>\n",
       "      <td>1.0</td>\n",
       "      <td>0.0</td>\n",
       "      <td>0.0</td>\n",
       "      <td>1.0</td>\n",
       "      <td>0.0</td>\n",
       "    </tr>\n",
       "  </tbody>\n",
       "</table>\n",
       "</div>"
      ],
      "text/plain": [
       "         ID       Age  Height_cm  Weight_kg     BMI  Chronic_Disease  \\\n",
       "0  0.000000  0.745098   0.718462   0.093049  0.0500              0.0   \n",
       "1  0.001001  1.000000   0.590769   0.467489  0.3725              0.0   \n",
       "2  0.002002  0.549020   0.433846   0.448430  0.4375              0.0   \n",
       "3  0.003003  0.274510   0.610769   0.531390  0.4125              0.0   \n",
       "4  0.004004  0.823529   0.423077   0.352018  0.3575              1.0   \n",
       "5  0.005005  0.137255   0.566154   0.369955  0.3050              0.0   \n",
       "6  0.006006  0.392157   0.332308   0.661435  0.7000              1.0   \n",
       "7  0.007007  0.505992   0.529231   0.403587  0.3500              0.0   \n",
       "8  0.008008  0.352941   0.707692   0.137892  0.0850              0.0   \n",
       "9  0.009009  0.431373   0.478462   0.542601  0.4925              1.0   \n",
       "\n",
       "   Stress_Level  Sleep_Hours  Gender_Female  Gender_Male  Gender_Other  \\\n",
       "0      0.888889     0.673684            0.0          0.0           1.0   \n",
       "1      0.111111     0.400000            0.0          0.0           1.0   \n",
       "2      0.222222     0.284211            1.0          0.0           0.0   \n",
       "3      0.888889     0.473684            0.0          1.0           0.0   \n",
       "4      0.555556     0.421053            0.0          1.0           0.0   \n",
       "5      0.000000     0.389474            1.0          0.0           0.0   \n",
       "6      0.111111     0.389474            0.0          0.0           1.0   \n",
       "7      0.666667     0.494737            0.0          1.0           0.0   \n",
       "8      0.555556     0.442105            0.0          1.0           0.0   \n",
       "9      0.000000     0.368421            0.0          0.0           1.0   \n",
       "\n",
       "   Smoker_No  Smoker_Yes  Diet_Quality_Average  Diet_Quality_Excellent  \\\n",
       "0        0.0         1.0                   0.0                     0.0   \n",
       "1        1.0         0.0                   0.0                     0.0   \n",
       "2        1.0         0.0                   0.0                     1.0   \n",
       "3        1.0         0.0                   0.0                     1.0   \n",
       "4        1.0         0.0                   0.0                     1.0   \n",
       "5        1.0         0.0                   0.0                     0.0   \n",
       "6        1.0         0.0                   0.0                     0.0   \n",
       "7        1.0         0.0                   0.0                     0.0   \n",
       "8        1.0         0.0                   1.0                     0.0   \n",
       "9        0.0         1.0                   0.0                     0.0   \n",
       "\n",
       "   Diet_Quality_Good  Diet_Quality_Poor  Alcohol_Consumption_High  \\\n",
       "0                0.0                1.0                       1.0   \n",
       "1                1.0                0.0                       1.0   \n",
       "2                0.0                0.0                       0.0   \n",
       "3                0.0                0.0                       0.0   \n",
       "4                0.0                0.0                       0.0   \n",
       "5                1.0                0.0                       0.0   \n",
       "6                1.0                0.0                       1.0   \n",
       "7                1.0                0.0                       0.0   \n",
       "8                0.0                0.0                       1.0   \n",
       "9                1.0                0.0                       0.0   \n",
       "\n",
       "   Alcohol_Consumption_Low  Alcohol_Consumption_Moderate  \n",
       "0                      0.0                           0.0  \n",
       "1                      0.0                           0.0  \n",
       "2                      0.0                           1.0  \n",
       "3                      0.0                           1.0  \n",
       "4                      1.0                           0.0  \n",
       "5                      0.0                           1.0  \n",
       "6                      0.0                           0.0  \n",
       "7                      0.0                           1.0  \n",
       "8                      0.0                           0.0  \n",
       "9                      1.0                           0.0  "
      ]
     },
     "execution_count": 298,
     "metadata": {},
     "output_type": "execute_result"
    }
   ],
   "source": [
    "df.head(10)"
   ]
  },
  {
   "cell_type": "markdown",
   "id": "d81809df",
   "metadata": {},
   "source": [
    "# Feature Transforming"
   ]
  },
  {
   "cell_type": "code",
   "execution_count": 299,
   "id": "73bd9bba",
   "metadata": {},
   "outputs": [],
   "source": [
    "import numpy as np"
   ]
  },
  {
   "cell_type": "code",
   "execution_count": 300,
   "id": "ea3bf7d0",
   "metadata": {},
   "outputs": [],
   "source": [
    "skew_check = df.select_dtypes(include=['float64'])"
   ]
  },
  {
   "cell_type": "code",
   "execution_count": 301,
   "id": "4a508e0e",
   "metadata": {},
   "outputs": [
    {
     "data": {
      "text/plain": [
       "ID                              0.000000\n",
       "Age                            -0.040218\n",
       "Height_cm                       0.034965\n",
       "Weight_kg                       0.012734\n",
       "BMI                             0.307322\n",
       "Chronic_Disease                 1.514746\n",
       "Stress_Level                   -0.065347\n",
       "Sleep_Hours                     0.065550\n",
       "Gender_Female                   0.552712\n",
       "Gender_Male                     0.704985\n",
       "Gender_Other                    0.879394\n",
       "Smoker_No                      -0.975908\n",
       "Smoker_Yes                      0.975908\n",
       "Diet_Quality_Average            1.150281\n",
       "Diet_Quality_Excellent          1.298599\n",
       "Diet_Quality_Good               1.049173\n",
       "Diet_Quality_Poor               1.138043\n",
       "Alcohol_Consumption_High       -0.028045\n",
       "Alcohol_Consumption_Low         1.119865\n",
       "Alcohol_Consumption_Moderate    1.238801\n",
       "dtype: float64"
      ]
     },
     "execution_count": 301,
     "metadata": {},
     "output_type": "execute_result"
    }
   ],
   "source": [
    "skew_check.skew()"
   ]
  },
  {
   "cell_type": "code",
   "execution_count": 302,
   "id": "847243b1",
   "metadata": {},
   "outputs": [],
   "source": [
    "skewness = skew_check.skew()"
   ]
  },
  {
   "cell_type": "code",
   "execution_count": 303,
   "id": "3c551c47",
   "metadata": {},
   "outputs": [],
   "source": [
    "log_transformation = skewness[(skewness>=0.5)].index.tolist()"
   ]
  },
  {
   "cell_type": "code",
   "execution_count": 304,
   "id": "4a2cf7f7",
   "metadata": {},
   "outputs": [
    {
     "data": {
      "text/plain": [
       "['Chronic_Disease',\n",
       " 'Gender_Female',\n",
       " 'Gender_Male',\n",
       " 'Gender_Other',\n",
       " 'Smoker_Yes',\n",
       " 'Diet_Quality_Average',\n",
       " 'Diet_Quality_Excellent',\n",
       " 'Diet_Quality_Good',\n",
       " 'Diet_Quality_Poor',\n",
       " 'Alcohol_Consumption_Low',\n",
       " 'Alcohol_Consumption_Moderate']"
      ]
     },
     "execution_count": 304,
     "metadata": {},
     "output_type": "execute_result"
    }
   ],
   "source": [
    "log_transformation"
   ]
  },
  {
   "cell_type": "code",
   "execution_count": 305,
   "id": "b115b682",
   "metadata": {},
   "outputs": [],
   "source": [
    "for col in log_transformation:\n",
    "    df[col+'_log']=np.log1p(df[col])"
   ]
  },
  {
   "cell_type": "markdown",
   "id": "9e65225b",
   "metadata": {},
   "source": [
    "# Import algorithms"
   ]
  },
  {
   "cell_type": "code",
   "execution_count": 306,
   "id": "5cbf4450",
   "metadata": {},
   "outputs": [],
   "source": [
    "from sklearn.linear_model import LogisticRegression\n",
    "from sklearn.tree import DecisionTreeClassifier\n",
    "from sklearn.ensemble import RandomForestClassifier\n",
    "from sklearn.svm import SVC\n",
    "from sklearn.neighbors import KNeighborsClassifier"
   ]
  },
  {
   "cell_type": "markdown",
   "id": "33bf97d4",
   "metadata": {},
   "source": [
    "# Import metrics"
   ]
  },
  {
   "cell_type": "code",
   "execution_count": 307,
   "id": "81ba5c2f",
   "metadata": {},
   "outputs": [],
   "source": [
    "from sklearn.metrics import accuracy_score, classification_report, mean_absolute_error"
   ]
  },
  {
   "cell_type": "markdown",
   "id": "0f98b3f7",
   "metadata": {},
   "source": [
    "# Train/Test split"
   ]
  },
  {
   "cell_type": "code",
   "execution_count": 308,
   "id": "4ae7ae29",
   "metadata": {},
   "outputs": [],
   "source": [
    "from sklearn.model_selection import train_test_split\n",
    "\n",
    "x = df.drop('Chronic_Disease', axis=1)\n",
    "y = df['Chronic_Disease']\n",
    "\n",
    "x_train, x_test, y_train, y_test = train_test_split(x, y, test_size=0.2, random_state=42)\n",
    "\n",
    "y_train = y_train.astype(int)\n",
    "y_test = y_test.astype(int)"
   ]
  },
  {
   "cell_type": "markdown",
   "id": "b2f9ea87",
   "metadata": {},
   "source": [
    "# Logistic Regression"
   ]
  },
  {
   "cell_type": "code",
   "execution_count": 309,
   "id": "d7f95eb2",
   "metadata": {},
   "outputs": [],
   "source": [
    "lr = LogisticRegression()\n",
    "\n",
    "lr.fit(x_train, y_train)\n",
    "\n",
    "y_pred = lr.predict(x_test)"
   ]
  },
  {
   "cell_type": "code",
   "execution_count": 310,
   "id": "3d329c8e",
   "metadata": {},
   "outputs": [],
   "source": [
    "lr_score = accuracy_score(y_test, y_pred)\n",
    "lr_report = classification_report(y_test, y_pred)\n",
    "lr_mae = mean_absolute_error(y_test, y_pred)"
   ]
  },
  {
   "cell_type": "code",
   "execution_count": 311,
   "id": "65049d8f",
   "metadata": {},
   "outputs": [
    {
     "data": {
      "text/plain": [
       "1.0"
      ]
     },
     "execution_count": 311,
     "metadata": {},
     "output_type": "execute_result"
    }
   ],
   "source": [
    "lr_score"
   ]
  },
  {
   "cell_type": "code",
   "execution_count": 312,
   "id": "21ffc4e8",
   "metadata": {},
   "outputs": [
    {
     "name": "stdout",
     "output_type": "stream",
     "text": [
      "              precision    recall  f1-score   support\n",
      "\n",
      "           0       1.00      1.00      1.00       165\n",
      "           1       1.00      1.00      1.00        35\n",
      "\n",
      "    accuracy                           1.00       200\n",
      "   macro avg       1.00      1.00      1.00       200\n",
      "weighted avg       1.00      1.00      1.00       200\n",
      "\n"
     ]
    }
   ],
   "source": [
    "print(lr_report)"
   ]
  },
  {
   "cell_type": "code",
   "execution_count": 313,
   "id": "9aefb3bc",
   "metadata": {},
   "outputs": [
    {
     "data": {
      "text/plain": [
       "0.0"
      ]
     },
     "execution_count": 313,
     "metadata": {},
     "output_type": "execute_result"
    }
   ],
   "source": [
    "lr_mae"
   ]
  },
  {
   "cell_type": "markdown",
   "id": "4e5a0855",
   "metadata": {},
   "source": [
    "# Decision Tree"
   ]
  },
  {
   "cell_type": "code",
   "execution_count": 314,
   "id": "dfe45fa6",
   "metadata": {},
   "outputs": [],
   "source": [
    "dt = DecisionTreeClassifier(random_state=42)\n",
    "\n",
    "dt.fit(x_train, y_train)\n",
    "\n",
    "y_pred = dt.predict(x_test)"
   ]
  },
  {
   "cell_type": "code",
   "execution_count": 315,
   "id": "2f951b9d",
   "metadata": {},
   "outputs": [],
   "source": [
    "dt_score = accuracy_score(y_test, y_pred)\n",
    "dt_report = classification_report(y_test, y_pred)\n",
    "dt_mae = mean_absolute_error(y_test, y_pred)"
   ]
  },
  {
   "cell_type": "code",
   "execution_count": 316,
   "id": "ca2b01b6",
   "metadata": {},
   "outputs": [
    {
     "data": {
      "text/plain": [
       "1.0"
      ]
     },
     "execution_count": 316,
     "metadata": {},
     "output_type": "execute_result"
    }
   ],
   "source": [
    "dt_score"
   ]
  },
  {
   "cell_type": "code",
   "execution_count": 317,
   "id": "0b39f354",
   "metadata": {},
   "outputs": [
    {
     "name": "stdout",
     "output_type": "stream",
     "text": [
      "              precision    recall  f1-score   support\n",
      "\n",
      "           0       1.00      1.00      1.00       165\n",
      "           1       1.00      1.00      1.00        35\n",
      "\n",
      "    accuracy                           1.00       200\n",
      "   macro avg       1.00      1.00      1.00       200\n",
      "weighted avg       1.00      1.00      1.00       200\n",
      "\n"
     ]
    }
   ],
   "source": [
    "print(dt_report)"
   ]
  },
  {
   "cell_type": "code",
   "execution_count": 318,
   "id": "50996700",
   "metadata": {},
   "outputs": [
    {
     "data": {
      "text/plain": [
       "0.0"
      ]
     },
     "execution_count": 318,
     "metadata": {},
     "output_type": "execute_result"
    }
   ],
   "source": [
    "dt_mae"
   ]
  },
  {
   "cell_type": "markdown",
   "id": "89f8a1a1",
   "metadata": {},
   "source": [
    "# Random Forest"
   ]
  },
  {
   "cell_type": "code",
   "execution_count": 319,
   "id": "db74409b",
   "metadata": {},
   "outputs": [],
   "source": [
    "rf = RandomForestClassifier(random_state=42)\n",
    "\n",
    "rf.fit(x_train, y_train)\n",
    "\n",
    "y_pred = rf.predict(x_test)"
   ]
  },
  {
   "cell_type": "code",
   "execution_count": 320,
   "id": "ce5a7303",
   "metadata": {},
   "outputs": [],
   "source": [
    "rf_score = accuracy_score(y_test, y_pred)\n",
    "rf_report = classification_report(y_test, y_pred)\n",
    "rf_mae = mean_absolute_error(y_test, y_pred)"
   ]
  },
  {
   "cell_type": "code",
   "execution_count": 321,
   "id": "4b24f17f",
   "metadata": {},
   "outputs": [
    {
     "data": {
      "text/plain": [
       "1.0"
      ]
     },
     "execution_count": 321,
     "metadata": {},
     "output_type": "execute_result"
    }
   ],
   "source": [
    "rf_score"
   ]
  },
  {
   "cell_type": "code",
   "execution_count": 322,
   "id": "d8f3d556",
   "metadata": {},
   "outputs": [
    {
     "name": "stdout",
     "output_type": "stream",
     "text": [
      "              precision    recall  f1-score   support\n",
      "\n",
      "           0       1.00      1.00      1.00       165\n",
      "           1       1.00      1.00      1.00        35\n",
      "\n",
      "    accuracy                           1.00       200\n",
      "   macro avg       1.00      1.00      1.00       200\n",
      "weighted avg       1.00      1.00      1.00       200\n",
      "\n"
     ]
    }
   ],
   "source": [
    "print(rf_report)"
   ]
  },
  {
   "cell_type": "code",
   "execution_count": 323,
   "id": "dd0d8757",
   "metadata": {},
   "outputs": [
    {
     "data": {
      "text/plain": [
       "0.0"
      ]
     },
     "execution_count": 323,
     "metadata": {},
     "output_type": "execute_result"
    }
   ],
   "source": [
    "rf_mae"
   ]
  },
  {
   "cell_type": "markdown",
   "id": "d4b233fa",
   "metadata": {},
   "source": [
    "# SVM"
   ]
  },
  {
   "cell_type": "code",
   "execution_count": 324,
   "id": "d33e37bb",
   "metadata": {},
   "outputs": [],
   "source": [
    "svc = SVC(kernel='linear', C=0.5)\n",
    "\n",
    "svc.fit(x_train, y_train)\n",
    "\n",
    "y_pred = svc.predict(x_test)"
   ]
  },
  {
   "cell_type": "code",
   "execution_count": 325,
   "id": "396bd192",
   "metadata": {},
   "outputs": [],
   "source": [
    "svc_score = accuracy_score(y_test, y_pred)\n",
    "svc_report = classification_report(y_test, y_pred)\n",
    "svc_mae = mean_absolute_error(y_test, y_pred)"
   ]
  },
  {
   "cell_type": "code",
   "execution_count": 326,
   "id": "f7a24d44",
   "metadata": {},
   "outputs": [
    {
     "data": {
      "text/plain": [
       "1.0"
      ]
     },
     "execution_count": 326,
     "metadata": {},
     "output_type": "execute_result"
    }
   ],
   "source": [
    "svc_score"
   ]
  },
  {
   "cell_type": "code",
   "execution_count": 327,
   "id": "01cd6dd9",
   "metadata": {},
   "outputs": [
    {
     "name": "stdout",
     "output_type": "stream",
     "text": [
      "              precision    recall  f1-score   support\n",
      "\n",
      "           0       1.00      1.00      1.00       165\n",
      "           1       1.00      1.00      1.00        35\n",
      "\n",
      "    accuracy                           1.00       200\n",
      "   macro avg       1.00      1.00      1.00       200\n",
      "weighted avg       1.00      1.00      1.00       200\n",
      "\n"
     ]
    }
   ],
   "source": [
    "print(svc_report)"
   ]
  },
  {
   "cell_type": "code",
   "execution_count": 328,
   "id": "f100b060",
   "metadata": {},
   "outputs": [
    {
     "data": {
      "text/plain": [
       "0.0"
      ]
     },
     "execution_count": 328,
     "metadata": {},
     "output_type": "execute_result"
    }
   ],
   "source": [
    "svc_mae"
   ]
  },
  {
   "cell_type": "markdown",
   "id": "5e83287e",
   "metadata": {},
   "source": [
    "# KNN"
   ]
  },
  {
   "cell_type": "code",
   "execution_count": 329,
   "id": "4abcaae9",
   "metadata": {},
   "outputs": [],
   "source": [
    "knn = KNeighborsClassifier(n_neighbors=3)\n",
    "\n",
    "knn.fit(x_train, y_train)\n",
    "\n",
    "y_pred = knn.predict(x_test)"
   ]
  },
  {
   "cell_type": "code",
   "execution_count": 330,
   "id": "cf9841ff",
   "metadata": {},
   "outputs": [],
   "source": [
    "knn_score = accuracy_score(y_test, y_pred)\n",
    "knn_report = classification_report(y_test, y_pred)\n",
    "knn_mae = mean_absolute_error(y_test, y_pred)"
   ]
  },
  {
   "cell_type": "code",
   "execution_count": 331,
   "id": "24800758",
   "metadata": {},
   "outputs": [
    {
     "data": {
      "text/plain": [
       "0.92"
      ]
     },
     "execution_count": 331,
     "metadata": {},
     "output_type": "execute_result"
    }
   ],
   "source": [
    "knn_score"
   ]
  },
  {
   "cell_type": "code",
   "execution_count": 332,
   "id": "e1ffb80d",
   "metadata": {},
   "outputs": [
    {
     "name": "stdout",
     "output_type": "stream",
     "text": [
      "              precision    recall  f1-score   support\n",
      "\n",
      "           0       0.92      0.99      0.95       165\n",
      "           1       0.95      0.57      0.71        35\n",
      "\n",
      "    accuracy                           0.92       200\n",
      "   macro avg       0.93      0.78      0.83       200\n",
      "weighted avg       0.92      0.92      0.91       200\n",
      "\n"
     ]
    }
   ],
   "source": [
    "print(knn_report)"
   ]
  },
  {
   "cell_type": "code",
   "execution_count": 333,
   "id": "acaa13ca",
   "metadata": {},
   "outputs": [
    {
     "data": {
      "text/plain": [
       "0.08"
      ]
     },
     "execution_count": 333,
     "metadata": {},
     "output_type": "execute_result"
    }
   ],
   "source": [
    "knn_mae"
   ]
  },
  {
   "cell_type": "markdown",
   "id": "0599ec50",
   "metadata": {},
   "source": [
    "# Tabulate"
   ]
  },
  {
   "cell_type": "code",
   "execution_count": 334,
   "id": "5571efe4",
   "metadata": {},
   "outputs": [],
   "source": [
    "from tabulate import tabulate"
   ]
  },
  {
   "cell_type": "code",
   "execution_count": 335,
   "id": "7acc579e",
   "metadata": {},
   "outputs": [],
   "source": [
    "result = [\n",
    "    ['Logistic Regression', lr_score, lr_mae],\n",
    "    ['Decision Tree', dt_score, dt_mae],\n",
    "    ['Random Forest', rf_score, rf_mae],\n",
    "    ['SVM', svc_score, svc_mae],\n",
    "    ['KNN', knn_score, knn_mae],\n",
    "]\n",
    "\n",
    "headers = ['Algorithm', 'Accuracy_score', 'mean absolute error']\n",
    "\n",
    "table = tabulate(result, headers=headers, tablefmt='grid', floatfmt='.2f')"
   ]
  },
  {
   "cell_type": "code",
   "execution_count": 336,
   "id": "2f5070c1",
   "metadata": {},
   "outputs": [
    {
     "name": "stdout",
     "output_type": "stream",
     "text": [
      "+---------------------+------------------+-----------------------+\n",
      "| Algorithm           |   Accuracy_score |   mean absolute error |\n",
      "+=====================+==================+=======================+\n",
      "| Logistic Regression |             1.00 |                  0.00 |\n",
      "+---------------------+------------------+-----------------------+\n",
      "| Decision Tree       |             1.00 |                  0.00 |\n",
      "+---------------------+------------------+-----------------------+\n",
      "| Random Forest       |             1.00 |                  0.00 |\n",
      "+---------------------+------------------+-----------------------+\n",
      "| SVM                 |             1.00 |                  0.00 |\n",
      "+---------------------+------------------+-----------------------+\n",
      "| KNN                 |             0.92 |                  0.08 |\n",
      "+---------------------+------------------+-----------------------+\n"
     ]
    }
   ],
   "source": [
    "print(table)"
   ]
  },
  {
   "cell_type": "markdown",
   "id": "7638a5d3",
   "metadata": {},
   "source": [
    "# Joblib"
   ]
  },
  {
   "cell_type": "code",
   "execution_count": 337,
   "id": "a7ead3af",
   "metadata": {},
   "outputs": [],
   "source": [
    "from joblib import dump\n",
    "import os"
   ]
  },
  {
   "cell_type": "code",
   "execution_count": 338,
   "id": "9f8bd668",
   "metadata": {},
   "outputs": [],
   "source": [
    "def JoblibSave(algo):\n",
    "    os.makedirs(\"model\", exist_ok=True)\n",
    "    algorithm = str(algo).split(\"(\")[0]\n",
    "    return dump(algo, f'model/{algorithm}_prediction.joblib')"
   ]
  },
  {
   "cell_type": "code",
   "execution_count": 339,
   "id": "537ef914",
   "metadata": {},
   "outputs": [
    {
     "data": {
      "text/plain": [
       "['model/KNeighborsClassifier_prediction.joblib']"
      ]
     },
     "execution_count": 339,
     "metadata": {},
     "output_type": "execute_result"
    }
   ],
   "source": [
    "JoblibSave(lr)\n",
    "JoblibSave(dt)\n",
    "JoblibSave(rf)\n",
    "JoblibSave(svc)\n",
    "JoblibSave(knn)"
   ]
  }
 ],
 "metadata": {
  "kernelspec": {
   "display_name": "Python 3",
   "language": "python",
   "name": "python3"
  },
  "language_info": {
   "codemirror_mode": {
    "name": "ipython",
    "version": 3
   },
   "file_extension": ".py",
   "mimetype": "text/x-python",
   "name": "python",
   "nbconvert_exporter": "python",
   "pygments_lexer": "ipython3",
   "version": "3.11.9"
  }
 },
 "nbformat": 4,
 "nbformat_minor": 5
}

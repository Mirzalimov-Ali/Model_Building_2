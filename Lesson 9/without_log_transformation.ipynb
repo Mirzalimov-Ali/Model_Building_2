{
 "cells": [
  {
   "cell_type": "code",
   "execution_count": 127,
   "id": "83f89bd9",
   "metadata": {},
   "outputs": [],
   "source": [
    "import pandas as pd\n",
    "from sklearn.preprocessing import LabelEncoder, MinMaxScaler"
   ]
  },
  {
   "cell_type": "code",
   "execution_count": 128,
   "id": "d2341f07",
   "metadata": {},
   "outputs": [],
   "source": [
    "df = pd.read_csv('synthetic_health_lifestyle_dataset.csv')"
   ]
  },
  {
   "cell_type": "code",
   "execution_count": 129,
   "id": "bf623b3e",
   "metadata": {},
   "outputs": [
    {
     "name": "stdout",
     "output_type": "stream",
     "text": [
      "<class 'pandas.core.frame.DataFrame'>\n",
      "RangeIndex: 1000 entries, 0 to 999\n",
      "Data columns (total 12 columns):\n",
      " #   Column               Non-Null Count  Dtype  \n",
      "---  ------               --------------  -----  \n",
      " 0   ID                   1000 non-null   int64  \n",
      " 1   Age                  998 non-null    float64\n",
      " 2   Gender               999 non-null    object \n",
      " 3   Height_cm            995 non-null    float64\n",
      " 4   Weight_kg            1000 non-null   float64\n",
      " 5   BMI                  996 non-null    float64\n",
      " 6   Smoker               1000 non-null   object \n",
      " 7   Diet_Quality         998 non-null    object \n",
      " 8   Alcohol_Consumption  749 non-null    object \n",
      " 9   Chronic_Disease      996 non-null    object \n",
      " 10  Stress_Level         1000 non-null   int64  \n",
      " 11  Sleep_Hours          999 non-null    float64\n",
      "dtypes: float64(5), int64(2), object(5)\n",
      "memory usage: 93.9+ KB\n"
     ]
    }
   ],
   "source": [
    "df.info()"
   ]
  },
  {
   "cell_type": "code",
   "execution_count": 130,
   "id": "4539a295",
   "metadata": {},
   "outputs": [],
   "source": [
    "df['Chronic_Disease'] = df['Chronic_Disease'].map({'No': 0, 'Yes': 1})"
   ]
  },
  {
   "cell_type": "code",
   "execution_count": 131,
   "id": "50e5f72c",
   "metadata": {},
   "outputs": [],
   "source": [
    "class DataPreprocessing:\n",
    "    def __init__(self, df):\n",
    "        self.df = df.copy()\n",
    "        self.encoder = LabelEncoder()\n",
    "        self.scaler = MinMaxScaler()\n",
    "    \n",
    "    def fillMissingValues(self):\n",
    "        for col in self.df.columns:\n",
    "            if self.df[col].isnull().any():\n",
    "                if self.df[col].dtype == 'object':\n",
    "                    self.df[col].fillna(self.df[col].mode()[0], inplace=True)\n",
    "                else:\n",
    "                    self.df[col].fillna(self.df[col].mean(), inplace=True)\n",
    "        return self\n",
    "    \n",
    "    def encode(self):\n",
    "        for col in self.df.columns:\n",
    "            if self.df[col].dtype == 'object':\n",
    "                if self.df[col].nunique() <= 5:\n",
    "                    dummies = pd.get_dummies(self.df[col], prefix=col, dtype=int)\n",
    "                    self.df = pd.concat([self.df.drop(columns=[col]), dummies], axis=1)\n",
    "                else:\n",
    "                    self.df[col] = self.encoder.fit_transform(self.df[col])\n",
    "        return self\n",
    "    \n",
    "    def scale(self):\n",
    "        num_col = self.df.select_dtypes(include=['float64', 'int64']).columns.drop('Chronic_Disease')\n",
    "        self.df[num_col] = self.scaler.fit_transform(self.df[num_col])\n",
    "        return self\n",
    "    \n",
    "    def dataset(self):\n",
    "        return self.df"
   ]
  },
  {
   "cell_type": "code",
   "execution_count": 132,
   "id": "9c319b1d",
   "metadata": {},
   "outputs": [
    {
     "name": "stderr",
     "output_type": "stream",
     "text": [
      "C:\\Users\\user\\AppData\\Local\\Temp\\ipykernel_23332\\207625836.py:13: FutureWarning: A value is trying to be set on a copy of a DataFrame or Series through chained assignment using an inplace method.\n",
      "The behavior will change in pandas 3.0. This inplace method will never work because the intermediate object on which we are setting values always behaves as a copy.\n",
      "\n",
      "For example, when doing 'df[col].method(value, inplace=True)', try using 'df.method({col: value}, inplace=True)' or df[col] = df[col].method(value) instead, to perform the operation inplace on the original object.\n",
      "\n",
      "\n",
      "  self.df[col].fillna(self.df[col].mean(), inplace=True)\n",
      "C:\\Users\\user\\AppData\\Local\\Temp\\ipykernel_23332\\207625836.py:11: FutureWarning: A value is trying to be set on a copy of a DataFrame or Series through chained assignment using an inplace method.\n",
      "The behavior will change in pandas 3.0. This inplace method will never work because the intermediate object on which we are setting values always behaves as a copy.\n",
      "\n",
      "For example, when doing 'df[col].method(value, inplace=True)', try using 'df.method({col: value}, inplace=True)' or df[col] = df[col].method(value) instead, to perform the operation inplace on the original object.\n",
      "\n",
      "\n",
      "  self.df[col].fillna(self.df[col].mode()[0], inplace=True)\n"
     ]
    }
   ],
   "source": [
    "preprocessing = DataPreprocessing(df)\n",
    "df = preprocessing.fillMissingValues().encode().scale().dataset()"
   ]
  },
  {
   "cell_type": "code",
   "execution_count": 133,
   "id": "7b983c92",
   "metadata": {},
   "outputs": [
    {
     "data": {
      "text/html": [
       "<div>\n",
       "<style scoped>\n",
       "    .dataframe tbody tr th:only-of-type {\n",
       "        vertical-align: middle;\n",
       "    }\n",
       "\n",
       "    .dataframe tbody tr th {\n",
       "        vertical-align: top;\n",
       "    }\n",
       "\n",
       "    .dataframe thead th {\n",
       "        text-align: right;\n",
       "    }\n",
       "</style>\n",
       "<table border=\"1\" class=\"dataframe\">\n",
       "  <thead>\n",
       "    <tr style=\"text-align: right;\">\n",
       "      <th></th>\n",
       "      <th>ID</th>\n",
       "      <th>Age</th>\n",
       "      <th>Height_cm</th>\n",
       "      <th>Weight_kg</th>\n",
       "      <th>BMI</th>\n",
       "      <th>Chronic_Disease</th>\n",
       "      <th>Stress_Level</th>\n",
       "      <th>Sleep_Hours</th>\n",
       "      <th>Gender_Female</th>\n",
       "      <th>Gender_Male</th>\n",
       "      <th>Gender_Other</th>\n",
       "      <th>Smoker_No</th>\n",
       "      <th>Smoker_Yes</th>\n",
       "      <th>Diet_Quality_Average</th>\n",
       "      <th>Diet_Quality_Excellent</th>\n",
       "      <th>Diet_Quality_Good</th>\n",
       "      <th>Diet_Quality_Poor</th>\n",
       "      <th>Alcohol_Consumption_High</th>\n",
       "      <th>Alcohol_Consumption_Low</th>\n",
       "      <th>Alcohol_Consumption_Moderate</th>\n",
       "    </tr>\n",
       "  </thead>\n",
       "  <tbody>\n",
       "    <tr>\n",
       "      <th>0</th>\n",
       "      <td>0.000000</td>\n",
       "      <td>0.745098</td>\n",
       "      <td>0.718462</td>\n",
       "      <td>0.093049</td>\n",
       "      <td>0.0500</td>\n",
       "      <td>0.0</td>\n",
       "      <td>0.888889</td>\n",
       "      <td>0.673684</td>\n",
       "      <td>0.0</td>\n",
       "      <td>0.0</td>\n",
       "      <td>1.0</td>\n",
       "      <td>0.0</td>\n",
       "      <td>1.0</td>\n",
       "      <td>0.0</td>\n",
       "      <td>0.0</td>\n",
       "      <td>0.0</td>\n",
       "      <td>1.0</td>\n",
       "      <td>1.0</td>\n",
       "      <td>0.0</td>\n",
       "      <td>0.0</td>\n",
       "    </tr>\n",
       "    <tr>\n",
       "      <th>1</th>\n",
       "      <td>0.001001</td>\n",
       "      <td>1.000000</td>\n",
       "      <td>0.590769</td>\n",
       "      <td>0.467489</td>\n",
       "      <td>0.3725</td>\n",
       "      <td>0.0</td>\n",
       "      <td>0.111111</td>\n",
       "      <td>0.400000</td>\n",
       "      <td>0.0</td>\n",
       "      <td>0.0</td>\n",
       "      <td>1.0</td>\n",
       "      <td>1.0</td>\n",
       "      <td>0.0</td>\n",
       "      <td>0.0</td>\n",
       "      <td>0.0</td>\n",
       "      <td>1.0</td>\n",
       "      <td>0.0</td>\n",
       "      <td>1.0</td>\n",
       "      <td>0.0</td>\n",
       "      <td>0.0</td>\n",
       "    </tr>\n",
       "    <tr>\n",
       "      <th>2</th>\n",
       "      <td>0.002002</td>\n",
       "      <td>0.549020</td>\n",
       "      <td>0.433846</td>\n",
       "      <td>0.448430</td>\n",
       "      <td>0.4375</td>\n",
       "      <td>0.0</td>\n",
       "      <td>0.222222</td>\n",
       "      <td>0.284211</td>\n",
       "      <td>1.0</td>\n",
       "      <td>0.0</td>\n",
       "      <td>0.0</td>\n",
       "      <td>1.0</td>\n",
       "      <td>0.0</td>\n",
       "      <td>0.0</td>\n",
       "      <td>1.0</td>\n",
       "      <td>0.0</td>\n",
       "      <td>0.0</td>\n",
       "      <td>0.0</td>\n",
       "      <td>0.0</td>\n",
       "      <td>1.0</td>\n",
       "    </tr>\n",
       "    <tr>\n",
       "      <th>3</th>\n",
       "      <td>0.003003</td>\n",
       "      <td>0.274510</td>\n",
       "      <td>0.610769</td>\n",
       "      <td>0.531390</td>\n",
       "      <td>0.4125</td>\n",
       "      <td>0.0</td>\n",
       "      <td>0.888889</td>\n",
       "      <td>0.473684</td>\n",
       "      <td>0.0</td>\n",
       "      <td>1.0</td>\n",
       "      <td>0.0</td>\n",
       "      <td>1.0</td>\n",
       "      <td>0.0</td>\n",
       "      <td>0.0</td>\n",
       "      <td>1.0</td>\n",
       "      <td>0.0</td>\n",
       "      <td>0.0</td>\n",
       "      <td>0.0</td>\n",
       "      <td>0.0</td>\n",
       "      <td>1.0</td>\n",
       "    </tr>\n",
       "    <tr>\n",
       "      <th>4</th>\n",
       "      <td>0.004004</td>\n",
       "      <td>0.823529</td>\n",
       "      <td>0.423077</td>\n",
       "      <td>0.352018</td>\n",
       "      <td>0.3575</td>\n",
       "      <td>1.0</td>\n",
       "      <td>0.555556</td>\n",
       "      <td>0.421053</td>\n",
       "      <td>0.0</td>\n",
       "      <td>1.0</td>\n",
       "      <td>0.0</td>\n",
       "      <td>1.0</td>\n",
       "      <td>0.0</td>\n",
       "      <td>0.0</td>\n",
       "      <td>1.0</td>\n",
       "      <td>0.0</td>\n",
       "      <td>0.0</td>\n",
       "      <td>0.0</td>\n",
       "      <td>1.0</td>\n",
       "      <td>0.0</td>\n",
       "    </tr>\n",
       "    <tr>\n",
       "      <th>5</th>\n",
       "      <td>0.005005</td>\n",
       "      <td>0.137255</td>\n",
       "      <td>0.566154</td>\n",
       "      <td>0.369955</td>\n",
       "      <td>0.3050</td>\n",
       "      <td>0.0</td>\n",
       "      <td>0.000000</td>\n",
       "      <td>0.389474</td>\n",
       "      <td>1.0</td>\n",
       "      <td>0.0</td>\n",
       "      <td>0.0</td>\n",
       "      <td>1.0</td>\n",
       "      <td>0.0</td>\n",
       "      <td>0.0</td>\n",
       "      <td>0.0</td>\n",
       "      <td>1.0</td>\n",
       "      <td>0.0</td>\n",
       "      <td>0.0</td>\n",
       "      <td>0.0</td>\n",
       "      <td>1.0</td>\n",
       "    </tr>\n",
       "    <tr>\n",
       "      <th>6</th>\n",
       "      <td>0.006006</td>\n",
       "      <td>0.392157</td>\n",
       "      <td>0.332308</td>\n",
       "      <td>0.661435</td>\n",
       "      <td>0.7000</td>\n",
       "      <td>1.0</td>\n",
       "      <td>0.111111</td>\n",
       "      <td>0.389474</td>\n",
       "      <td>0.0</td>\n",
       "      <td>0.0</td>\n",
       "      <td>1.0</td>\n",
       "      <td>1.0</td>\n",
       "      <td>0.0</td>\n",
       "      <td>0.0</td>\n",
       "      <td>0.0</td>\n",
       "      <td>1.0</td>\n",
       "      <td>0.0</td>\n",
       "      <td>1.0</td>\n",
       "      <td>0.0</td>\n",
       "      <td>0.0</td>\n",
       "    </tr>\n",
       "    <tr>\n",
       "      <th>7</th>\n",
       "      <td>0.007007</td>\n",
       "      <td>0.505992</td>\n",
       "      <td>0.529231</td>\n",
       "      <td>0.403587</td>\n",
       "      <td>0.3500</td>\n",
       "      <td>0.0</td>\n",
       "      <td>0.666667</td>\n",
       "      <td>0.494737</td>\n",
       "      <td>0.0</td>\n",
       "      <td>1.0</td>\n",
       "      <td>0.0</td>\n",
       "      <td>1.0</td>\n",
       "      <td>0.0</td>\n",
       "      <td>0.0</td>\n",
       "      <td>0.0</td>\n",
       "      <td>1.0</td>\n",
       "      <td>0.0</td>\n",
       "      <td>0.0</td>\n",
       "      <td>0.0</td>\n",
       "      <td>1.0</td>\n",
       "    </tr>\n",
       "    <tr>\n",
       "      <th>8</th>\n",
       "      <td>0.008008</td>\n",
       "      <td>0.352941</td>\n",
       "      <td>0.707692</td>\n",
       "      <td>0.137892</td>\n",
       "      <td>0.0850</td>\n",
       "      <td>0.0</td>\n",
       "      <td>0.555556</td>\n",
       "      <td>0.442105</td>\n",
       "      <td>0.0</td>\n",
       "      <td>1.0</td>\n",
       "      <td>0.0</td>\n",
       "      <td>1.0</td>\n",
       "      <td>0.0</td>\n",
       "      <td>1.0</td>\n",
       "      <td>0.0</td>\n",
       "      <td>0.0</td>\n",
       "      <td>0.0</td>\n",
       "      <td>1.0</td>\n",
       "      <td>0.0</td>\n",
       "      <td>0.0</td>\n",
       "    </tr>\n",
       "    <tr>\n",
       "      <th>9</th>\n",
       "      <td>0.009009</td>\n",
       "      <td>0.431373</td>\n",
       "      <td>0.478462</td>\n",
       "      <td>0.542601</td>\n",
       "      <td>0.4925</td>\n",
       "      <td>1.0</td>\n",
       "      <td>0.000000</td>\n",
       "      <td>0.368421</td>\n",
       "      <td>0.0</td>\n",
       "      <td>0.0</td>\n",
       "      <td>1.0</td>\n",
       "      <td>0.0</td>\n",
       "      <td>1.0</td>\n",
       "      <td>0.0</td>\n",
       "      <td>0.0</td>\n",
       "      <td>1.0</td>\n",
       "      <td>0.0</td>\n",
       "      <td>0.0</td>\n",
       "      <td>1.0</td>\n",
       "      <td>0.0</td>\n",
       "    </tr>\n",
       "  </tbody>\n",
       "</table>\n",
       "</div>"
      ],
      "text/plain": [
       "         ID       Age  Height_cm  Weight_kg     BMI  Chronic_Disease  \\\n",
       "0  0.000000  0.745098   0.718462   0.093049  0.0500              0.0   \n",
       "1  0.001001  1.000000   0.590769   0.467489  0.3725              0.0   \n",
       "2  0.002002  0.549020   0.433846   0.448430  0.4375              0.0   \n",
       "3  0.003003  0.274510   0.610769   0.531390  0.4125              0.0   \n",
       "4  0.004004  0.823529   0.423077   0.352018  0.3575              1.0   \n",
       "5  0.005005  0.137255   0.566154   0.369955  0.3050              0.0   \n",
       "6  0.006006  0.392157   0.332308   0.661435  0.7000              1.0   \n",
       "7  0.007007  0.505992   0.529231   0.403587  0.3500              0.0   \n",
       "8  0.008008  0.352941   0.707692   0.137892  0.0850              0.0   \n",
       "9  0.009009  0.431373   0.478462   0.542601  0.4925              1.0   \n",
       "\n",
       "   Stress_Level  Sleep_Hours  Gender_Female  Gender_Male  Gender_Other  \\\n",
       "0      0.888889     0.673684            0.0          0.0           1.0   \n",
       "1      0.111111     0.400000            0.0          0.0           1.0   \n",
       "2      0.222222     0.284211            1.0          0.0           0.0   \n",
       "3      0.888889     0.473684            0.0          1.0           0.0   \n",
       "4      0.555556     0.421053            0.0          1.0           0.0   \n",
       "5      0.000000     0.389474            1.0          0.0           0.0   \n",
       "6      0.111111     0.389474            0.0          0.0           1.0   \n",
       "7      0.666667     0.494737            0.0          1.0           0.0   \n",
       "8      0.555556     0.442105            0.0          1.0           0.0   \n",
       "9      0.000000     0.368421            0.0          0.0           1.0   \n",
       "\n",
       "   Smoker_No  Smoker_Yes  Diet_Quality_Average  Diet_Quality_Excellent  \\\n",
       "0        0.0         1.0                   0.0                     0.0   \n",
       "1        1.0         0.0                   0.0                     0.0   \n",
       "2        1.0         0.0                   0.0                     1.0   \n",
       "3        1.0         0.0                   0.0                     1.0   \n",
       "4        1.0         0.0                   0.0                     1.0   \n",
       "5        1.0         0.0                   0.0                     0.0   \n",
       "6        1.0         0.0                   0.0                     0.0   \n",
       "7        1.0         0.0                   0.0                     0.0   \n",
       "8        1.0         0.0                   1.0                     0.0   \n",
       "9        0.0         1.0                   0.0                     0.0   \n",
       "\n",
       "   Diet_Quality_Good  Diet_Quality_Poor  Alcohol_Consumption_High  \\\n",
       "0                0.0                1.0                       1.0   \n",
       "1                1.0                0.0                       1.0   \n",
       "2                0.0                0.0                       0.0   \n",
       "3                0.0                0.0                       0.0   \n",
       "4                0.0                0.0                       0.0   \n",
       "5                1.0                0.0                       0.0   \n",
       "6                1.0                0.0                       1.0   \n",
       "7                1.0                0.0                       0.0   \n",
       "8                0.0                0.0                       1.0   \n",
       "9                1.0                0.0                       0.0   \n",
       "\n",
       "   Alcohol_Consumption_Low  Alcohol_Consumption_Moderate  \n",
       "0                      0.0                           0.0  \n",
       "1                      0.0                           0.0  \n",
       "2                      0.0                           1.0  \n",
       "3                      0.0                           1.0  \n",
       "4                      1.0                           0.0  \n",
       "5                      0.0                           1.0  \n",
       "6                      0.0                           0.0  \n",
       "7                      0.0                           1.0  \n",
       "8                      0.0                           0.0  \n",
       "9                      1.0                           0.0  "
      ]
     },
     "execution_count": 133,
     "metadata": {},
     "output_type": "execute_result"
    }
   ],
   "source": [
    "df.head(10)"
   ]
  },
  {
   "cell_type": "markdown",
   "id": "5341d886",
   "metadata": {},
   "source": [
    "# Import algorithms"
   ]
  },
  {
   "cell_type": "code",
   "execution_count": 134,
   "id": "bdc24e99",
   "metadata": {},
   "outputs": [],
   "source": [
    "from sklearn.linear_model import LogisticRegression\n",
    "from sklearn.tree import DecisionTreeClassifier\n",
    "from sklearn.ensemble import RandomForestClassifier\n",
    "from sklearn.svm import SVC\n",
    "from sklearn.neighbors import KNeighborsClassifier"
   ]
  },
  {
   "cell_type": "markdown",
   "id": "491082ec",
   "metadata": {},
   "source": [
    "# Import metrics"
   ]
  },
  {
   "cell_type": "code",
   "execution_count": 135,
   "id": "cbbf33a7",
   "metadata": {},
   "outputs": [],
   "source": [
    "from sklearn.metrics import accuracy_score, classification_report, mean_absolute_error"
   ]
  },
  {
   "cell_type": "markdown",
   "id": "9c1ede66",
   "metadata": {},
   "source": [
    "# Train/Test split"
   ]
  },
  {
   "cell_type": "code",
   "execution_count": 136,
   "id": "1a521c94",
   "metadata": {},
   "outputs": [],
   "source": [
    "from sklearn.model_selection import train_test_split\n",
    "\n",
    "x = df.drop('Chronic_Disease', axis=1)\n",
    "y = df['Chronic_Disease']\n",
    "\n",
    "x_train, x_test, y_train, y_test = train_test_split(x, y, test_size=0.2, random_state=42)\n",
    "\n",
    "y_train = y_train.astype(int)\n",
    "y_test = y_test.astype(int)"
   ]
  },
  {
   "cell_type": "markdown",
   "id": "221acafe",
   "metadata": {},
   "source": [
    "# Logistic Regression"
   ]
  },
  {
   "cell_type": "code",
   "execution_count": 137,
   "id": "ab2b3835",
   "metadata": {},
   "outputs": [],
   "source": [
    "lr = LogisticRegression()\n",
    "\n",
    "lr.fit(x_train, y_train)\n",
    "\n",
    "y_pred = lr.predict(x_test)"
   ]
  },
  {
   "cell_type": "code",
   "execution_count": 138,
   "id": "49dca683",
   "metadata": {},
   "outputs": [
    {
     "name": "stderr",
     "output_type": "stream",
     "text": [
      "C:\\Users\\user\\AppData\\Local\\Packages\\PythonSoftwareFoundation.Python.3.11_qbz5n2kfra8p0\\LocalCache\\local-packages\\Python311\\site-packages\\sklearn\\metrics\\_classification.py:1731: UndefinedMetricWarning: Precision is ill-defined and being set to 0.0 in labels with no predicted samples. Use `zero_division` parameter to control this behavior.\n",
      "  _warn_prf(average, modifier, f\"{metric.capitalize()} is\", result.shape[0])\n",
      "C:\\Users\\user\\AppData\\Local\\Packages\\PythonSoftwareFoundation.Python.3.11_qbz5n2kfra8p0\\LocalCache\\local-packages\\Python311\\site-packages\\sklearn\\metrics\\_classification.py:1731: UndefinedMetricWarning: Precision is ill-defined and being set to 0.0 in labels with no predicted samples. Use `zero_division` parameter to control this behavior.\n",
      "  _warn_prf(average, modifier, f\"{metric.capitalize()} is\", result.shape[0])\n",
      "C:\\Users\\user\\AppData\\Local\\Packages\\PythonSoftwareFoundation.Python.3.11_qbz5n2kfra8p0\\LocalCache\\local-packages\\Python311\\site-packages\\sklearn\\metrics\\_classification.py:1731: UndefinedMetricWarning: Precision is ill-defined and being set to 0.0 in labels with no predicted samples. Use `zero_division` parameter to control this behavior.\n",
      "  _warn_prf(average, modifier, f\"{metric.capitalize()} is\", result.shape[0])\n"
     ]
    }
   ],
   "source": [
    "lr_score = accuracy_score(y_test, y_pred)\n",
    "lr_report = classification_report(y_test, y_pred)\n",
    "lr_mae = mean_absolute_error(y_test, y_pred)"
   ]
  },
  {
   "cell_type": "code",
   "execution_count": 139,
   "id": "2a54b8b1",
   "metadata": {},
   "outputs": [
    {
     "data": {
      "text/plain": [
       "0.825"
      ]
     },
     "execution_count": 139,
     "metadata": {},
     "output_type": "execute_result"
    }
   ],
   "source": [
    "lr_score"
   ]
  },
  {
   "cell_type": "code",
   "execution_count": 140,
   "id": "4f9c8129",
   "metadata": {},
   "outputs": [
    {
     "name": "stdout",
     "output_type": "stream",
     "text": [
      "              precision    recall  f1-score   support\n",
      "\n",
      "           0       0.82      1.00      0.90       165\n",
      "           1       0.00      0.00      0.00        35\n",
      "\n",
      "    accuracy                           0.82       200\n",
      "   macro avg       0.41      0.50      0.45       200\n",
      "weighted avg       0.68      0.82      0.75       200\n",
      "\n"
     ]
    }
   ],
   "source": [
    "print(lr_report)"
   ]
  },
  {
   "cell_type": "code",
   "execution_count": 141,
   "id": "07da63f0",
   "metadata": {},
   "outputs": [
    {
     "data": {
      "text/plain": [
       "0.175"
      ]
     },
     "execution_count": 141,
     "metadata": {},
     "output_type": "execute_result"
    }
   ],
   "source": [
    "lr_mae"
   ]
  },
  {
   "cell_type": "markdown",
   "id": "da4cc5d4",
   "metadata": {},
   "source": [
    "# Decision Tree"
   ]
  },
  {
   "cell_type": "code",
   "execution_count": 142,
   "id": "fec2ca30",
   "metadata": {},
   "outputs": [],
   "source": [
    "dt = DecisionTreeClassifier(random_state=42)\n",
    "\n",
    "dt.fit(x_train, y_train)\n",
    "\n",
    "y_pred = dt.predict(x_test)"
   ]
  },
  {
   "cell_type": "code",
   "execution_count": 143,
   "id": "48646642",
   "metadata": {},
   "outputs": [],
   "source": [
    "dt_score = accuracy_score(y_test, y_pred)\n",
    "dt_report = classification_report(y_test, y_pred)\n",
    "dt_mae = mean_absolute_error(y_test, y_pred)"
   ]
  },
  {
   "cell_type": "code",
   "execution_count": 144,
   "id": "a94d1c4f",
   "metadata": {},
   "outputs": [
    {
     "data": {
      "text/plain": [
       "0.695"
      ]
     },
     "execution_count": 144,
     "metadata": {},
     "output_type": "execute_result"
    }
   ],
   "source": [
    "dt_score"
   ]
  },
  {
   "cell_type": "code",
   "execution_count": 145,
   "id": "2b247edf",
   "metadata": {},
   "outputs": [
    {
     "name": "stdout",
     "output_type": "stream",
     "text": [
      "              precision    recall  f1-score   support\n",
      "\n",
      "           0       0.82      0.81      0.81       165\n",
      "           1       0.16      0.17      0.16        35\n",
      "\n",
      "    accuracy                           0.69       200\n",
      "   macro avg       0.49      0.49      0.49       200\n",
      "weighted avg       0.70      0.69      0.70       200\n",
      "\n"
     ]
    }
   ],
   "source": [
    "print(dt_report)"
   ]
  },
  {
   "cell_type": "code",
   "execution_count": 146,
   "id": "488cfc5d",
   "metadata": {},
   "outputs": [
    {
     "data": {
      "text/plain": [
       "0.305"
      ]
     },
     "execution_count": 146,
     "metadata": {},
     "output_type": "execute_result"
    }
   ],
   "source": [
    "dt_mae"
   ]
  },
  {
   "cell_type": "markdown",
   "id": "79c411ed",
   "metadata": {},
   "source": [
    "# Random Forest"
   ]
  },
  {
   "cell_type": "code",
   "execution_count": 147,
   "id": "dec0bb85",
   "metadata": {},
   "outputs": [],
   "source": [
    "rf = RandomForestClassifier(random_state=42)\n",
    "\n",
    "rf.fit(x_train, y_train)\n",
    "\n",
    "y_pred = rf.predict(x_test)"
   ]
  },
  {
   "cell_type": "code",
   "execution_count": 148,
   "id": "5ffa4195",
   "metadata": {},
   "outputs": [],
   "source": [
    "rf_score = accuracy_score(y_test, y_pred)\n",
    "rf_report = classification_report(y_test, y_pred)\n",
    "rf_mae = mean_absolute_error(y_test, y_pred)"
   ]
  },
  {
   "cell_type": "code",
   "execution_count": 149,
   "id": "fefe1238",
   "metadata": {},
   "outputs": [
    {
     "data": {
      "text/plain": [
       "0.82"
      ]
     },
     "execution_count": 149,
     "metadata": {},
     "output_type": "execute_result"
    }
   ],
   "source": [
    "rf_score"
   ]
  },
  {
   "cell_type": "code",
   "execution_count": 150,
   "id": "6032c35b",
   "metadata": {},
   "outputs": [
    {
     "name": "stdout",
     "output_type": "stream",
     "text": [
      "              precision    recall  f1-score   support\n",
      "\n",
      "           0       0.82      0.99      0.90       165\n",
      "           1       0.00      0.00      0.00        35\n",
      "\n",
      "    accuracy                           0.82       200\n",
      "   macro avg       0.41      0.50      0.45       200\n",
      "weighted avg       0.68      0.82      0.74       200\n",
      "\n"
     ]
    }
   ],
   "source": [
    "print(rf_report)"
   ]
  },
  {
   "cell_type": "code",
   "execution_count": 151,
   "id": "6808c4a4",
   "metadata": {},
   "outputs": [
    {
     "data": {
      "text/plain": [
       "0.18"
      ]
     },
     "execution_count": 151,
     "metadata": {},
     "output_type": "execute_result"
    }
   ],
   "source": [
    "rf_mae"
   ]
  },
  {
   "cell_type": "markdown",
   "id": "ebebf58b",
   "metadata": {},
   "source": [
    "# SVM"
   ]
  },
  {
   "cell_type": "code",
   "execution_count": 152,
   "id": "b668efd5",
   "metadata": {},
   "outputs": [],
   "source": [
    "svc = SVC(kernel='linear', C=0.5)\n",
    "\n",
    "svc.fit(x_train, y_train)\n",
    "\n",
    "y_pred = svc.predict(x_test)"
   ]
  },
  {
   "cell_type": "code",
   "execution_count": 153,
   "id": "ec01a182",
   "metadata": {},
   "outputs": [
    {
     "name": "stderr",
     "output_type": "stream",
     "text": [
      "C:\\Users\\user\\AppData\\Local\\Packages\\PythonSoftwareFoundation.Python.3.11_qbz5n2kfra8p0\\LocalCache\\local-packages\\Python311\\site-packages\\sklearn\\metrics\\_classification.py:1731: UndefinedMetricWarning: Precision is ill-defined and being set to 0.0 in labels with no predicted samples. Use `zero_division` parameter to control this behavior.\n",
      "  _warn_prf(average, modifier, f\"{metric.capitalize()} is\", result.shape[0])\n",
      "C:\\Users\\user\\AppData\\Local\\Packages\\PythonSoftwareFoundation.Python.3.11_qbz5n2kfra8p0\\LocalCache\\local-packages\\Python311\\site-packages\\sklearn\\metrics\\_classification.py:1731: UndefinedMetricWarning: Precision is ill-defined and being set to 0.0 in labels with no predicted samples. Use `zero_division` parameter to control this behavior.\n",
      "  _warn_prf(average, modifier, f\"{metric.capitalize()} is\", result.shape[0])\n",
      "C:\\Users\\user\\AppData\\Local\\Packages\\PythonSoftwareFoundation.Python.3.11_qbz5n2kfra8p0\\LocalCache\\local-packages\\Python311\\site-packages\\sklearn\\metrics\\_classification.py:1731: UndefinedMetricWarning: Precision is ill-defined and being set to 0.0 in labels with no predicted samples. Use `zero_division` parameter to control this behavior.\n",
      "  _warn_prf(average, modifier, f\"{metric.capitalize()} is\", result.shape[0])\n"
     ]
    }
   ],
   "source": [
    "svc_score = accuracy_score(y_test, y_pred)\n",
    "svc_report = classification_report(y_test, y_pred)\n",
    "svc_mae = mean_absolute_error(y_test, y_pred)"
   ]
  },
  {
   "cell_type": "code",
   "execution_count": 154,
   "id": "9270a7cb",
   "metadata": {},
   "outputs": [
    {
     "data": {
      "text/plain": [
       "0.825"
      ]
     },
     "execution_count": 154,
     "metadata": {},
     "output_type": "execute_result"
    }
   ],
   "source": [
    "svc_score"
   ]
  },
  {
   "cell_type": "code",
   "execution_count": 155,
   "id": "d8006c9b",
   "metadata": {},
   "outputs": [
    {
     "name": "stdout",
     "output_type": "stream",
     "text": [
      "              precision    recall  f1-score   support\n",
      "\n",
      "           0       0.82      1.00      0.90       165\n",
      "           1       0.00      0.00      0.00        35\n",
      "\n",
      "    accuracy                           0.82       200\n",
      "   macro avg       0.41      0.50      0.45       200\n",
      "weighted avg       0.68      0.82      0.75       200\n",
      "\n"
     ]
    }
   ],
   "source": [
    "print(svc_report)"
   ]
  },
  {
   "cell_type": "code",
   "execution_count": 156,
   "id": "2be3d2a1",
   "metadata": {},
   "outputs": [
    {
     "data": {
      "text/plain": [
       "0.175"
      ]
     },
     "execution_count": 156,
     "metadata": {},
     "output_type": "execute_result"
    }
   ],
   "source": [
    "svc_mae"
   ]
  },
  {
   "cell_type": "markdown",
   "id": "ac96d06e",
   "metadata": {},
   "source": [
    "# KNN"
   ]
  },
  {
   "cell_type": "code",
   "execution_count": 157,
   "id": "1fac70a2",
   "metadata": {},
   "outputs": [],
   "source": [
    "knn = KNeighborsClassifier(n_neighbors=3)\n",
    "\n",
    "knn.fit(x_train, y_train)\n",
    "\n",
    "y_pred = knn.predict(x_test)"
   ]
  },
  {
   "cell_type": "code",
   "execution_count": 158,
   "id": "8295ec46",
   "metadata": {},
   "outputs": [],
   "source": [
    "knn_score = accuracy_score(y_test, y_pred)\n",
    "knn_report = classification_report(y_test, y_pred)\n",
    "knn_mae = mean_absolute_error(y_test, y_pred)"
   ]
  },
  {
   "cell_type": "code",
   "execution_count": 159,
   "id": "1da5392f",
   "metadata": {},
   "outputs": [
    {
     "data": {
      "text/plain": [
       "0.78"
      ]
     },
     "execution_count": 159,
     "metadata": {},
     "output_type": "execute_result"
    }
   ],
   "source": [
    "knn_score"
   ]
  },
  {
   "cell_type": "code",
   "execution_count": 160,
   "id": "65b32b28",
   "metadata": {},
   "outputs": [
    {
     "name": "stdout",
     "output_type": "stream",
     "text": [
      "              precision    recall  f1-score   support\n",
      "\n",
      "           0       0.83      0.92      0.87       165\n",
      "           1       0.24      0.11      0.15        35\n",
      "\n",
      "    accuracy                           0.78       200\n",
      "   macro avg       0.53      0.52      0.51       200\n",
      "weighted avg       0.73      0.78      0.75       200\n",
      "\n"
     ]
    }
   ],
   "source": [
    "print(knn_report)"
   ]
  },
  {
   "cell_type": "code",
   "execution_count": 161,
   "id": "1d9ed104",
   "metadata": {},
   "outputs": [
    {
     "data": {
      "text/plain": [
       "0.22"
      ]
     },
     "execution_count": 161,
     "metadata": {},
     "output_type": "execute_result"
    }
   ],
   "source": [
    "knn_mae"
   ]
  },
  {
   "cell_type": "markdown",
   "id": "04fbebde",
   "metadata": {},
   "source": [
    "# Tabulate"
   ]
  },
  {
   "cell_type": "code",
   "execution_count": 162,
   "id": "e9e29f7a",
   "metadata": {},
   "outputs": [],
   "source": [
    "from tabulate import tabulate"
   ]
  },
  {
   "cell_type": "code",
   "execution_count": 163,
   "id": "d4523141",
   "metadata": {},
   "outputs": [],
   "source": [
    "result = [\n",
    "    ['Logistic Regression', lr_score, lr_mae],\n",
    "    ['Decision Tree', dt_score, dt_mae],\n",
    "    ['Random Forest', rf_score, rf_mae],\n",
    "    ['SVM', svc_score, svc_mae],\n",
    "    ['KNN', knn_score, knn_mae],\n",
    "]\n",
    "\n",
    "headers = ['Algorithm', 'Accuracy_score', 'mean absolute error']\n",
    "\n",
    "table = tabulate(result, headers=headers, tablefmt='grid', floatfmt='.2f')"
   ]
  },
  {
   "cell_type": "code",
   "execution_count": 164,
   "id": "23812988",
   "metadata": {},
   "outputs": [
    {
     "name": "stdout",
     "output_type": "stream",
     "text": [
      "+---------------------+------------------+-----------------------+\n",
      "| Algorithm           |   Accuracy_score |   mean absolute error |\n",
      "+=====================+==================+=======================+\n",
      "| Logistic Regression |             0.82 |                  0.17 |\n",
      "+---------------------+------------------+-----------------------+\n",
      "| Decision Tree       |             0.69 |                  0.30 |\n",
      "+---------------------+------------------+-----------------------+\n",
      "| Random Forest       |             0.82 |                  0.18 |\n",
      "+---------------------+------------------+-----------------------+\n",
      "| SVM                 |             0.82 |                  0.17 |\n",
      "+---------------------+------------------+-----------------------+\n",
      "| KNN                 |             0.78 |                  0.22 |\n",
      "+---------------------+------------------+-----------------------+\n"
     ]
    }
   ],
   "source": [
    "print(table)"
   ]
  }
 ],
 "metadata": {
  "kernelspec": {
   "display_name": "Python 3",
   "language": "python",
   "name": "python3"
  },
  "language_info": {
   "codemirror_mode": {
    "name": "ipython",
    "version": 3
   },
   "file_extension": ".py",
   "mimetype": "text/x-python",
   "name": "python",
   "nbconvert_exporter": "python",
   "pygments_lexer": "ipython3",
   "version": "3.11.9"
  }
 },
 "nbformat": 4,
 "nbformat_minor": 5
}

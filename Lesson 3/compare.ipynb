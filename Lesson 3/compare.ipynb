{
 "cells": [
  {
   "cell_type": "code",
   "execution_count": 1,
   "id": "78cce1f3",
   "metadata": {},
   "outputs": [],
   "source": [
    "from tabulate import tabulate"
   ]
  },
  {
   "cell_type": "code",
   "execution_count": 2,
   "id": "e06c88ca",
   "metadata": {},
   "outputs": [],
   "source": [
    "result = [\n",
    "    ['Linear Regression', 0.90, 0.89],\n",
    "    ['Decision Tree', 0.88, 0.89],\n",
    "    ['Random Forest', 0.93, 0.93],\n",
    "    ['CVM', 0.72, 0.72],\n",
    "    ['KNN', 0.43, 0.62],\n",
    "]\n",
    "\n",
    "headers = ['Algorithm', 'with function', 'without function (autoclean)']\n",
    "\n",
    "table = tabulate(result, headers=headers, tablefmt='grid', floatfmt='.2f')"
   ]
  },
  {
   "cell_type": "code",
   "execution_count": 3,
   "id": "fae54491",
   "metadata": {},
   "outputs": [
    {
     "name": "stdout",
     "output_type": "stream",
     "text": [
      "+-------------------+-----------------+--------------------------------+\n",
      "| Algorithm         |   with function |   without function (autoclean) |\n",
      "+===================+=================+================================+\n",
      "| Linear Regression |            0.90 |                           0.89 |\n",
      "+-------------------+-----------------+--------------------------------+\n",
      "| Decision Tree     |            0.88 |                           0.89 |\n",
      "+-------------------+-----------------+--------------------------------+\n",
      "| Random Forest     |            0.93 |                           0.93 |\n",
      "+-------------------+-----------------+--------------------------------+\n",
      "| CVM               |            0.72 |                           0.72 |\n",
      "+-------------------+-----------------+--------------------------------+\n",
      "| KNN               |            0.43 |                           0.62 |\n",
      "+-------------------+-----------------+--------------------------------+\n"
     ]
    }
   ],
   "source": [
    "print(table)"
   ]
  },
  {
   "cell_type": "code",
   "execution_count": null,
   "id": "6a80abdc",
   "metadata": {},
   "outputs": [],
   "source": []
  }
 ],
 "metadata": {
  "kernelspec": {
   "display_name": "Python 3",
   "language": "python",
   "name": "python3"
  },
  "language_info": {
   "codemirror_mode": {
    "name": "ipython",
    "version": 3
   },
   "file_extension": ".py",
   "mimetype": "text/x-python",
   "name": "python",
   "nbconvert_exporter": "python",
   "pygments_lexer": "ipython3",
   "version": "3.11.9"
  }
 },
 "nbformat": 4,
 "nbformat_minor": 5
}

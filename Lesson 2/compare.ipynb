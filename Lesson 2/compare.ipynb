{
 "cells": [
  {
   "cell_type": "code",
   "execution_count": 1,
   "id": "9bb247f6",
   "metadata": {},
   "outputs": [],
   "source": [
    "from tabulate import tabulate"
   ]
  },
  {
   "cell_type": "code",
   "execution_count": 6,
   "id": "28fed8a7",
   "metadata": {},
   "outputs": [],
   "source": [
    "result = [\n",
    "    ['Linear Regression', -0.00, -0.00],\n",
    "    ['Decision Tree', -1.03, -1.03],\n",
    "    ['Random Forest', -0.02, -0.02],\n",
    "    ['CVM', -0.00, -0.00],\n",
    "    ['KNN', -0.19, -0.19],\n",
    "]\n",
    "\n",
    "headers = ['Algorithm', 'with function', 'without function \\n(klib/datacleaner)']\n",
    "\n",
    "table = tabulate(result, headers=headers, tablefmt='grid', floatfmt='.2f')"
   ]
  },
  {
   "cell_type": "code",
   "execution_count": 7,
   "id": "50c03f6c",
   "metadata": {},
   "outputs": [
    {
     "name": "stdout",
     "output_type": "stream",
     "text": [
      "+-------------------+-----------------+----------------------+\n",
      "| Algorithm         |   with function |    without function  |\n",
      "|                   |                 |   (klib/datacleaner) |\n",
      "+===================+=================+======================+\n",
      "| Linear Regression |           -0.00 |                -0.00 |\n",
      "+-------------------+-----------------+----------------------+\n",
      "| Decision Tree     |           -1.03 |                -1.03 |\n",
      "+-------------------+-----------------+----------------------+\n",
      "| Random Forest     |           -0.02 |                -0.02 |\n",
      "+-------------------+-----------------+----------------------+\n",
      "| CVM               |           -0.00 |                -0.00 |\n",
      "+-------------------+-----------------+----------------------+\n",
      "| KNN               |           -0.19 |                -0.19 |\n",
      "+-------------------+-----------------+----------------------+\n"
     ]
    }
   ],
   "source": [
    "print(table)"
   ]
  },
  {
   "cell_type": "code",
   "execution_count": null,
   "id": "e6e120ce",
   "metadata": {},
   "outputs": [],
   "source": []
  }
 ],
 "metadata": {
  "kernelspec": {
   "display_name": "Python 3",
   "language": "python",
   "name": "python3"
  },
  "language_info": {
   "codemirror_mode": {
    "name": "ipython",
    "version": 3
   },
   "file_extension": ".py",
   "mimetype": "text/x-python",
   "name": "python",
   "nbconvert_exporter": "python",
   "pygments_lexer": "ipython3",
   "version": "3.11.9"
  }
 },
 "nbformat": 4,
 "nbformat_minor": 5
}

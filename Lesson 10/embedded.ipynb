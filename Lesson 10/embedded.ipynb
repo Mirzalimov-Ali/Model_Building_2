{
 "cells": [
  {
   "cell_type": "code",
   "execution_count": 35,
   "id": "9f8fd866",
   "metadata": {},
   "outputs": [],
   "source": [
    "import pandas as pd\n",
    "import numpy as np\n",
    "from sklearn.preprocessing import LabelEncoder, MinMaxScaler"
   ]
  },
  {
   "cell_type": "code",
   "execution_count": 36,
   "id": "cc51e157",
   "metadata": {},
   "outputs": [],
   "source": [
    "df = pd.read_csv('users_data.csv')"
   ]
  },
  {
   "cell_type": "code",
   "execution_count": 37,
   "id": "b236b103",
   "metadata": {},
   "outputs": [
    {
     "name": "stdout",
     "output_type": "stream",
     "text": [
      "<class 'pandas.core.frame.DataFrame'>\n",
      "RangeIndex: 2000 entries, 0 to 1999\n",
      "Data columns (total 14 columns):\n",
      " #   Column             Non-Null Count  Dtype  \n",
      "---  ------             --------------  -----  \n",
      " 0   id                 2000 non-null   int64  \n",
      " 1   current_age        2000 non-null   int64  \n",
      " 2   retirement_age     2000 non-null   int64  \n",
      " 3   birth_year         2000 non-null   int64  \n",
      " 4   birth_month        2000 non-null   int64  \n",
      " 5   gender             2000 non-null   object \n",
      " 6   address            2000 non-null   object \n",
      " 7   latitude           2000 non-null   float64\n",
      " 8   longitude          2000 non-null   float64\n",
      " 9   per_capita_income  2000 non-null   int64  \n",
      " 10  yearly_income      2000 non-null   int64  \n",
      " 11  total_debt         2000 non-null   int64  \n",
      " 12  credit_score       2000 non-null   int64  \n",
      " 13  num_credit_cards   2000 non-null   int64  \n",
      "dtypes: float64(2), int64(10), object(2)\n",
      "memory usage: 218.9+ KB\n"
     ]
    }
   ],
   "source": [
    "df.info()"
   ]
  },
  {
   "cell_type": "code",
   "execution_count": 38,
   "id": "94d2d95b",
   "metadata": {},
   "outputs": [],
   "source": [
    "encoder = LabelEncoder()\n",
    "scaler = MinMaxScaler()"
   ]
  },
  {
   "cell_type": "code",
   "execution_count": 39,
   "id": "49c1226c",
   "metadata": {},
   "outputs": [],
   "source": [
    "class DataPreprocessing:\n",
    "    def __init__(self, df):\n",
    "        self.df = df.copy()\n",
    "    \n",
    "    def fillMissingValues(self):\n",
    "        for col in self.df.columns:\n",
    "            if self.df[col].isnull().any():\n",
    "                if self.df[col].dtype == 'object':\n",
    "                    self.df[col].fillna(self.df[col].mode()[0], inplace=True)\n",
    "                else:\n",
    "                    self.df[col].fillna(self.df[col].mean(), inplace=True)\n",
    "        return self\n",
    "    \n",
    "    def encode(self):\n",
    "        for col in self.df.columns:\n",
    "            if self.df[col].dtype == 'object':\n",
    "                if self.df[col].nunique() <= 5:\n",
    "                    dummies = pd.get_dummies(self.df[col], prefix=col, dtype=int)\n",
    "                    self.df = pd.concat([self.df.drop(columns=[col]), dummies], axis=1)\n",
    "                else:\n",
    "                    self.df[col] = encoder.fit_transform(self.df[col])\n",
    "        return self\n",
    "    \n",
    "    def scale(self):\n",
    "        num_cols = self.df.select_dtypes(include=['int64', 'float64']).columns.drop('yearly_income')\n",
    "        self.df[num_cols] = scaler.fit_transform(self.df[num_cols])\n",
    "        return self\n",
    "    \n",
    "    def log_transformer(self, target='yearly_income'):\n",
    "        skewness = self.df.skew()\n",
    "        features_log = skewness[(skewness >= 0.5)].index.tolist()\n",
    "\n",
    "        if target in features_log:\n",
    "            features_log.remove(target)\n",
    "        \n",
    "        for col in features_log:\n",
    "            if (self.df[col] > 0).all():\n",
    "                self.df[col] = np.log1p(self.df[col])\n",
    "        return self\n",
    "    \n",
    "    def getPreprocessed(self):\n",
    "        return self.df\n"
   ]
  },
  {
   "cell_type": "code",
   "execution_count": 40,
   "id": "d5409cce",
   "metadata": {},
   "outputs": [],
   "source": [
    "preprocessing = DataPreprocessing(df)\n",
    "df = preprocessing.fillMissingValues().encode().scale().log_transformer().getPreprocessed()"
   ]
  },
  {
   "cell_type": "code",
   "execution_count": 41,
   "id": "431730b2",
   "metadata": {},
   "outputs": [
    {
     "data": {
      "text/html": [
       "<div>\n",
       "<style scoped>\n",
       "    .dataframe tbody tr th:only-of-type {\n",
       "        vertical-align: middle;\n",
       "    }\n",
       "\n",
       "    .dataframe tbody tr th {\n",
       "        vertical-align: top;\n",
       "    }\n",
       "\n",
       "    .dataframe thead th {\n",
       "        text-align: right;\n",
       "    }\n",
       "</style>\n",
       "<table border=\"1\" class=\"dataframe\">\n",
       "  <thead>\n",
       "    <tr style=\"text-align: right;\">\n",
       "      <th></th>\n",
       "      <th>id</th>\n",
       "      <th>current_age</th>\n",
       "      <th>retirement_age</th>\n",
       "      <th>birth_year</th>\n",
       "      <th>birth_month</th>\n",
       "      <th>address</th>\n",
       "      <th>latitude</th>\n",
       "      <th>longitude</th>\n",
       "      <th>per_capita_income</th>\n",
       "      <th>yearly_income</th>\n",
       "      <th>total_debt</th>\n",
       "      <th>credit_score</th>\n",
       "      <th>num_credit_cards</th>\n",
       "      <th>gender_Female</th>\n",
       "      <th>gender_Male</th>\n",
       "    </tr>\n",
       "  </thead>\n",
       "  <tbody>\n",
       "    <tr>\n",
       "      <th>0</th>\n",
       "      <td>0.412706</td>\n",
       "      <td>0.421687</td>\n",
       "      <td>0.551724</td>\n",
       "      <td>0.571429</td>\n",
       "      <td>0.909091</td>\n",
       "      <td>0.409409</td>\n",
       "      <td>0.329117</td>\n",
       "      <td>0.459004</td>\n",
       "      <td>0.179460</td>\n",
       "      <td>59696</td>\n",
       "      <td>0.247186</td>\n",
       "      <td>0.829730</td>\n",
       "      <td>0.500</td>\n",
       "      <td>1.0</td>\n",
       "      <td>0.0</td>\n",
       "    </tr>\n",
       "    <tr>\n",
       "      <th>1</th>\n",
       "      <td>0.873437</td>\n",
       "      <td>0.421687</td>\n",
       "      <td>0.620690</td>\n",
       "      <td>0.571429</td>\n",
       "      <td>1.000000</td>\n",
       "      <td>0.303804</td>\n",
       "      <td>0.493056</td>\n",
       "      <td>0.944126</td>\n",
       "      <td>0.232254</td>\n",
       "      <td>77254</td>\n",
       "      <td>0.370642</td>\n",
       "      <td>0.597297</td>\n",
       "      <td>0.500</td>\n",
       "      <td>1.0</td>\n",
       "      <td>0.0</td>\n",
       "    </tr>\n",
       "    <tr>\n",
       "      <th>2</th>\n",
       "      <td>0.859430</td>\n",
       "      <td>0.759036</td>\n",
       "      <td>0.586207</td>\n",
       "      <td>0.238095</td>\n",
       "      <td>0.909091</td>\n",
       "      <td>0.745245</td>\n",
       "      <td>0.325893</td>\n",
       "      <td>0.457571</td>\n",
       "      <td>0.139024</td>\n",
       "      <td>33483</td>\n",
       "      <td>0.000380</td>\n",
       "      <td>0.589189</td>\n",
       "      <td>0.500</td>\n",
       "      <td>1.0</td>\n",
       "      <td>0.0</td>\n",
       "    </tr>\n",
       "    <tr>\n",
       "      <th>3</th>\n",
       "      <td>0.354177</td>\n",
       "      <td>0.542169</td>\n",
       "      <td>0.448276</td>\n",
       "      <td>0.464286</td>\n",
       "      <td>0.000000</td>\n",
       "      <td>0.223223</td>\n",
       "      <td>0.491815</td>\n",
       "      <td>0.941371</td>\n",
       "      <td>1.000000</td>\n",
       "      <td>249925</td>\n",
       "      <td>0.391909</td>\n",
       "      <td>0.654054</td>\n",
       "      <td>0.375</td>\n",
       "      <td>1.0</td>\n",
       "      <td>0.0</td>\n",
       "    </tr>\n",
       "    <tr>\n",
       "      <th>4</th>\n",
       "      <td>0.582291</td>\n",
       "      <td>0.301205</td>\n",
       "      <td>0.689655</td>\n",
       "      <td>0.690476</td>\n",
       "      <td>0.727273</td>\n",
       "      <td>0.960460</td>\n",
       "      <td>0.418651</td>\n",
       "      <td>0.407428</td>\n",
       "      <td>0.329750</td>\n",
       "      <td>109687</td>\n",
       "      <td>0.356127</td>\n",
       "      <td>0.527027</td>\n",
       "      <td>0.000</td>\n",
       "      <td>0.0</td>\n",
       "      <td>1.0</td>\n",
       "    </tr>\n",
       "    <tr>\n",
       "      <th>5</th>\n",
       "      <td>0.034017</td>\n",
       "      <td>0.289157</td>\n",
       "      <td>0.689655</td>\n",
       "      <td>0.702381</td>\n",
       "      <td>0.818182</td>\n",
       "      <td>0.538038</td>\n",
       "      <td>0.512649</td>\n",
       "      <td>0.758320</td>\n",
       "      <td>0.126262</td>\n",
       "      <td>41997</td>\n",
       "      <td>0.000000</td>\n",
       "      <td>0.605405</td>\n",
       "      <td>0.250</td>\n",
       "      <td>0.0</td>\n",
       "      <td>1.0</td>\n",
       "    </tr>\n",
       "    <tr>\n",
       "      <th>6</th>\n",
       "      <td>0.537769</td>\n",
       "      <td>0.216867</td>\n",
       "      <td>0.586207</td>\n",
       "      <td>0.773810</td>\n",
       "      <td>1.000000</td>\n",
       "      <td>0.529029</td>\n",
       "      <td>0.430060</td>\n",
       "      <td>0.811880</td>\n",
       "      <td>0.154819</td>\n",
       "      <td>51500</td>\n",
       "      <td>0.198128</td>\n",
       "      <td>0.518919</td>\n",
       "      <td>0.250</td>\n",
       "      <td>1.0</td>\n",
       "      <td>0.0</td>\n",
       "    </tr>\n",
       "    <tr>\n",
       "      <th>7</th>\n",
       "      <td>0.855928</td>\n",
       "      <td>0.096386</td>\n",
       "      <td>0.586207</td>\n",
       "      <td>0.892857</td>\n",
       "      <td>1.000000</td>\n",
       "      <td>0.101602</td>\n",
       "      <td>0.610863</td>\n",
       "      <td>0.405224</td>\n",
       "      <td>0.164210</td>\n",
       "      <td>54623</td>\n",
       "      <td>0.222195</td>\n",
       "      <td>0.670270</td>\n",
       "      <td>0.000</td>\n",
       "      <td>0.0</td>\n",
       "      <td>1.0</td>\n",
       "    </tr>\n",
       "    <tr>\n",
       "      <th>8</th>\n",
       "      <td>0.558279</td>\n",
       "      <td>0.759036</td>\n",
       "      <td>0.551724</td>\n",
       "      <td>0.238095</td>\n",
       "      <td>0.545455</td>\n",
       "      <td>0.012513</td>\n",
       "      <td>0.482143</td>\n",
       "      <td>0.926714</td>\n",
       "      <td>0.161041</td>\n",
       "      <td>42509</td>\n",
       "      <td>0.005608</td>\n",
       "      <td>0.743243</td>\n",
       "      <td>0.500</td>\n",
       "      <td>1.0</td>\n",
       "      <td>0.0</td>\n",
       "    </tr>\n",
       "    <tr>\n",
       "      <th>9</th>\n",
       "      <td>0.876438</td>\n",
       "      <td>0.192771</td>\n",
       "      <td>0.344828</td>\n",
       "      <td>0.809524</td>\n",
       "      <td>0.000000</td>\n",
       "      <td>0.862863</td>\n",
       "      <td>0.225446</td>\n",
       "      <td>0.741569</td>\n",
       "      <td>0.114806</td>\n",
       "      <td>38190</td>\n",
       "      <td>0.157404</td>\n",
       "      <td>0.891892</td>\n",
       "      <td>0.000</td>\n",
       "      <td>1.0</td>\n",
       "      <td>0.0</td>\n",
       "    </tr>\n",
       "  </tbody>\n",
       "</table>\n",
       "</div>"
      ],
      "text/plain": [
       "         id  current_age  retirement_age  birth_year  birth_month   address  \\\n",
       "0  0.412706     0.421687        0.551724    0.571429     0.909091  0.409409   \n",
       "1  0.873437     0.421687        0.620690    0.571429     1.000000  0.303804   \n",
       "2  0.859430     0.759036        0.586207    0.238095     0.909091  0.745245   \n",
       "3  0.354177     0.542169        0.448276    0.464286     0.000000  0.223223   \n",
       "4  0.582291     0.301205        0.689655    0.690476     0.727273  0.960460   \n",
       "5  0.034017     0.289157        0.689655    0.702381     0.818182  0.538038   \n",
       "6  0.537769     0.216867        0.586207    0.773810     1.000000  0.529029   \n",
       "7  0.855928     0.096386        0.586207    0.892857     1.000000  0.101602   \n",
       "8  0.558279     0.759036        0.551724    0.238095     0.545455  0.012513   \n",
       "9  0.876438     0.192771        0.344828    0.809524     0.000000  0.862863   \n",
       "\n",
       "   latitude  longitude  per_capita_income  yearly_income  total_debt  \\\n",
       "0  0.329117   0.459004           0.179460          59696    0.247186   \n",
       "1  0.493056   0.944126           0.232254          77254    0.370642   \n",
       "2  0.325893   0.457571           0.139024          33483    0.000380   \n",
       "3  0.491815   0.941371           1.000000         249925    0.391909   \n",
       "4  0.418651   0.407428           0.329750         109687    0.356127   \n",
       "5  0.512649   0.758320           0.126262          41997    0.000000   \n",
       "6  0.430060   0.811880           0.154819          51500    0.198128   \n",
       "7  0.610863   0.405224           0.164210          54623    0.222195   \n",
       "8  0.482143   0.926714           0.161041          42509    0.005608   \n",
       "9  0.225446   0.741569           0.114806          38190    0.157404   \n",
       "\n",
       "   credit_score  num_credit_cards  gender_Female  gender_Male  \n",
       "0      0.829730             0.500            1.0          0.0  \n",
       "1      0.597297             0.500            1.0          0.0  \n",
       "2      0.589189             0.500            1.0          0.0  \n",
       "3      0.654054             0.375            1.0          0.0  \n",
       "4      0.527027             0.000            0.0          1.0  \n",
       "5      0.605405             0.250            0.0          1.0  \n",
       "6      0.518919             0.250            1.0          0.0  \n",
       "7      0.670270             0.000            0.0          1.0  \n",
       "8      0.743243             0.500            1.0          0.0  \n",
       "9      0.891892             0.000            1.0          0.0  "
      ]
     },
     "execution_count": 41,
     "metadata": {},
     "output_type": "execute_result"
    }
   ],
   "source": [
    "df.head(10)"
   ]
  },
  {
   "cell_type": "markdown",
   "id": "23b9c7f8",
   "metadata": {},
   "source": [
    "# Import algorithms"
   ]
  },
  {
   "cell_type": "code",
   "execution_count": 42,
   "id": "facf3e52",
   "metadata": {},
   "outputs": [],
   "source": [
    "from sklearn.linear_model import LinearRegression\n",
    "from sklearn.tree import DecisionTreeRegressor\n",
    "from sklearn.ensemble import RandomForestRegressor\n",
    "from sklearn.svm import SVR\n",
    "from sklearn.neighbors import KNeighborsRegressor\n",
    "\n",
    "from sklearn.feature_selection import RFE"
   ]
  },
  {
   "cell_type": "markdown",
   "id": "926bc9bd",
   "metadata": {},
   "source": [
    "# Import metrics"
   ]
  },
  {
   "cell_type": "code",
   "execution_count": 43,
   "id": "7d191a1f",
   "metadata": {},
   "outputs": [],
   "source": [
    "from sklearn.metrics import r2_score, mean_absolute_error"
   ]
  },
  {
   "cell_type": "markdown",
   "id": "4b39a0de",
   "metadata": {},
   "source": [
    "# Train/Test split"
   ]
  },
  {
   "cell_type": "code",
   "execution_count": 44,
   "id": "18fa15cb",
   "metadata": {},
   "outputs": [],
   "source": [
    "from sklearn.model_selection import train_test_split\n",
    "\n",
    "x = df.drop('yearly_income', axis=1)\n",
    "y = df['yearly_income']\n",
    "\n",
    "x_train, x_test, y_train, y_test = train_test_split(x, y, test_size=0.2, random_state=42)"
   ]
  },
  {
   "cell_type": "markdown",
   "id": "efbd1ccd",
   "metadata": {},
   "source": [
    "# Linear Regression"
   ]
  },
  {
   "cell_type": "code",
   "execution_count": 45,
   "id": "8a3f0570",
   "metadata": {},
   "outputs": [],
   "source": [
    "lr_model = LinearRegression()\n",
    "\n",
    "lr_rfe = RFE(lr_model, n_features_to_select=10)\n",
    "lr_rfe.fit(x_train, y_train)\n",
    "y_pred = lr_rfe.predict(x_test)"
   ]
  },
  {
   "cell_type": "code",
   "execution_count": 46,
   "id": "7c51e4ad",
   "metadata": {},
   "outputs": [],
   "source": [
    "lr_score = r2_score(y_test, y_pred)\n",
    "lr_mae = mean_absolute_error(y_test, y_pred)"
   ]
  },
  {
   "cell_type": "code",
   "execution_count": 47,
   "id": "ac816a31",
   "metadata": {},
   "outputs": [
    {
     "data": {
      "text/plain": [
       "0.9523735873418111"
      ]
     },
     "execution_count": 47,
     "metadata": {},
     "output_type": "execute_result"
    }
   ],
   "source": [
    "lr_score"
   ]
  },
  {
   "cell_type": "code",
   "execution_count": 48,
   "id": "e4815218",
   "metadata": {},
   "outputs": [
    {
     "data": {
      "text/plain": [
       "2627.8991078762733"
      ]
     },
     "execution_count": 48,
     "metadata": {},
     "output_type": "execute_result"
    }
   ],
   "source": [
    "lr_mae"
   ]
  },
  {
   "cell_type": "markdown",
   "id": "a1206389",
   "metadata": {},
   "source": [
    "# Decision Tree"
   ]
  },
  {
   "cell_type": "code",
   "execution_count": 49,
   "id": "1eac8e68",
   "metadata": {},
   "outputs": [],
   "source": [
    "dt = DecisionTreeRegressor(random_state=42)\n",
    "\n",
    "dt.fit(x_train, y_train)\n",
    "\n",
    "y_pred = dt.predict(x_test)"
   ]
  },
  {
   "cell_type": "code",
   "execution_count": 50,
   "id": "de4d8749",
   "metadata": {},
   "outputs": [],
   "source": [
    "dt_score = r2_score(y_test, y_pred)\n",
    "dt_mae = mean_absolute_error(y_test, y_pred)"
   ]
  },
  {
   "cell_type": "code",
   "execution_count": 51,
   "id": "b8ebff75",
   "metadata": {},
   "outputs": [
    {
     "data": {
      "text/plain": [
       "0.9204070323907539"
      ]
     },
     "execution_count": 51,
     "metadata": {},
     "output_type": "execute_result"
    }
   ],
   "source": [
    "dt_score"
   ]
  },
  {
   "cell_type": "code",
   "execution_count": 52,
   "id": "191d8aca",
   "metadata": {},
   "outputs": [
    {
     "data": {
      "text/plain": [
       "1999.92"
      ]
     },
     "execution_count": 52,
     "metadata": {},
     "output_type": "execute_result"
    }
   ],
   "source": [
    "dt_mae"
   ]
  },
  {
   "cell_type": "markdown",
   "id": "19dee616",
   "metadata": {},
   "source": [
    "# Random Forest"
   ]
  },
  {
   "cell_type": "code",
   "execution_count": 53,
   "id": "35a1e5ed",
   "metadata": {},
   "outputs": [
    {
     "name": "stdout",
     "output_type": "stream",
     "text": [
      "              Feature  Importance\n",
      "8   per_capita_income    0.942876\n",
      "1         current_age    0.011226\n",
      "3          birth_year    0.010743\n",
      "10       credit_score    0.008781\n",
      "9          total_debt    0.004512\n",
      "7           longitude    0.003827\n",
      "0                  id    0.003163\n",
      "4         birth_month    0.003150\n",
      "11   num_credit_cards    0.002875\n",
      "2      retirement_age    0.002787\n",
      "6            latitude    0.002739\n",
      "5             address    0.002720\n",
      "12      gender_Female    0.000368\n",
      "13        gender_Male    0.000233\n"
     ]
    }
   ],
   "source": [
    "rf = RandomForestRegressor(n_estimators=200, random_state=42)\n",
    "\n",
    "rf.fit(x_train, y_train)\n",
    "\n",
    "y_pred = rf.predict(x_test)\n",
    "\n",
    "feat_imp = pd.DataFrame({\n",
    "    'Feature': x_train.columns,\n",
    "    'Importance': rf.feature_importances_\n",
    "}).sort_values(by='Importance', ascending=False)\n",
    "\n",
    "print(feat_imp)"
   ]
  },
  {
   "cell_type": "code",
   "execution_count": 54,
   "id": "ab6e8d29",
   "metadata": {},
   "outputs": [],
   "source": [
    "rf_score = r2_score(y_test, y_pred)\n",
    "rf_mae = mean_absolute_error(y_test, y_pred)"
   ]
  },
  {
   "cell_type": "code",
   "execution_count": 55,
   "id": "f81c85fb",
   "metadata": {},
   "outputs": [
    {
     "data": {
      "text/plain": [
       "0.9635433322739688"
      ]
     },
     "execution_count": 55,
     "metadata": {},
     "output_type": "execute_result"
    }
   ],
   "source": [
    "rf_score"
   ]
  },
  {
   "cell_type": "code",
   "execution_count": 56,
   "id": "c6cc3c4d",
   "metadata": {},
   "outputs": [
    {
     "data": {
      "text/plain": [
       "1527.818075"
      ]
     },
     "execution_count": 56,
     "metadata": {},
     "output_type": "execute_result"
    }
   ],
   "source": [
    "rf_mae"
   ]
  },
  {
   "cell_type": "markdown",
   "id": "11a51312",
   "metadata": {},
   "source": [
    "# SVM"
   ]
  },
  {
   "cell_type": "code",
   "execution_count": 57,
   "id": "2fe848c2",
   "metadata": {},
   "outputs": [],
   "source": [
    "svr = SVR(kernel='linear', C=0.5)\n",
    "\n",
    "svr.fit(x_train, y_train)\n",
    "\n",
    "y_pred = svr.predict(x_test)"
   ]
  },
  {
   "cell_type": "code",
   "execution_count": 58,
   "id": "5ca2be96",
   "metadata": {},
   "outputs": [],
   "source": [
    "svr_score = r2_score(y_test, y_pred)\n",
    "svr_mae = mean_absolute_error(y_test, y_pred)"
   ]
  },
  {
   "cell_type": "code",
   "execution_count": 59,
   "id": "0358b6b4",
   "metadata": {},
   "outputs": [
    {
     "data": {
      "text/plain": [
       "-0.035123592912133184"
      ]
     },
     "execution_count": 59,
     "metadata": {},
     "output_type": "execute_result"
    }
   ],
   "source": [
    "svr_score"
   ]
  },
  {
   "cell_type": "code",
   "execution_count": 60,
   "id": "dc97ef6d",
   "metadata": {},
   "outputs": [
    {
     "data": {
      "text/plain": [
       "14320.11751686801"
      ]
     },
     "execution_count": 60,
     "metadata": {},
     "output_type": "execute_result"
    }
   ],
   "source": [
    "svr_mae"
   ]
  },
  {
   "cell_type": "markdown",
   "id": "752a14f2",
   "metadata": {},
   "source": [
    "# KNN"
   ]
  },
  {
   "cell_type": "code",
   "execution_count": 61,
   "id": "9a263abc",
   "metadata": {},
   "outputs": [],
   "source": [
    "knn = KNeighborsRegressor(n_neighbors=3)\n",
    "\n",
    "knn.fit(x_train, y_train)\n",
    "\n",
    "y_pred = knn.predict(x_test)"
   ]
  },
  {
   "cell_type": "code",
   "execution_count": 62,
   "id": "00a08a6b",
   "metadata": {},
   "outputs": [],
   "source": [
    "knn_score = r2_score(y_test, y_pred)\n",
    "knn_mae = mean_absolute_error(y_test, y_pred)"
   ]
  },
  {
   "cell_type": "code",
   "execution_count": 63,
   "id": "17926c1c",
   "metadata": {},
   "outputs": [
    {
     "data": {
      "text/plain": [
       "0.2602860470080225"
      ]
     },
     "execution_count": 63,
     "metadata": {},
     "output_type": "execute_result"
    }
   ],
   "source": [
    "knn_score"
   ]
  },
  {
   "cell_type": "code",
   "execution_count": 64,
   "id": "e0b87cc1",
   "metadata": {},
   "outputs": [
    {
     "data": {
      "text/plain": [
       "13309.413333333332"
      ]
     },
     "execution_count": 64,
     "metadata": {},
     "output_type": "execute_result"
    }
   ],
   "source": [
    "knn_mae"
   ]
  },
  {
   "cell_type": "markdown",
   "id": "355b92e7",
   "metadata": {},
   "source": [
    "# Tabulate"
   ]
  },
  {
   "cell_type": "code",
   "execution_count": 65,
   "id": "d17100df",
   "metadata": {},
   "outputs": [],
   "source": [
    "from tabulate import tabulate"
   ]
  },
  {
   "cell_type": "code",
   "execution_count": 66,
   "id": "b3ca507f",
   "metadata": {},
   "outputs": [],
   "source": [
    "result = [\n",
    "    ['Linear Regression', lr_score, lr_mae],\n",
    "    ['Decision Tree', dt_score, dt_mae],\n",
    "    ['Random Forest', rf_score, rf_mae],\n",
    "    ['SVM', svr_score, svr_mae],\n",
    "    ['KNN', knn_score, knn_mae],\n",
    "]\n",
    "\n",
    "headers = ['Algorithm', 'r2_score', 'mean absolute error']\n",
    "\n",
    "table = tabulate(result, headers=headers, tablefmt='grid', floatfmt='.2f')"
   ]
  },
  {
   "cell_type": "code",
   "execution_count": 67,
   "id": "5305caa2",
   "metadata": {},
   "outputs": [
    {
     "name": "stdout",
     "output_type": "stream",
     "text": [
      "+-------------------+------------+-----------------------+\n",
      "| Algorithm         |   r2_score |   mean absolute error |\n",
      "+===================+============+=======================+\n",
      "| Linear Regression |       0.95 |               2627.90 |\n",
      "+-------------------+------------+-----------------------+\n",
      "| Decision Tree     |       0.92 |               1999.92 |\n",
      "+-------------------+------------+-----------------------+\n",
      "| Random Forest     |       0.96 |               1527.82 |\n",
      "+-------------------+------------+-----------------------+\n",
      "| SVM               |      -0.04 |              14320.12 |\n",
      "+-------------------+------------+-----------------------+\n",
      "| KNN               |       0.26 |              13309.41 |\n",
      "+-------------------+------------+-----------------------+\n"
     ]
    }
   ],
   "source": [
    "print(table)"
   ]
  },
  {
   "cell_type": "code",
   "execution_count": null,
   "id": "9d16f3f5",
   "metadata": {},
   "outputs": [],
   "source": []
  }
 ],
 "metadata": {
  "kernelspec": {
   "display_name": "Python 3",
   "language": "python",
   "name": "python3"
  },
  "language_info": {
   "codemirror_mode": {
    "name": "ipython",
    "version": 3
   },
   "file_extension": ".py",
   "mimetype": "text/x-python",
   "name": "python",
   "nbconvert_exporter": "python",
   "pygments_lexer": "ipython3",
   "version": "3.11.9"
  }
 },
 "nbformat": 4,
 "nbformat_minor": 5
}

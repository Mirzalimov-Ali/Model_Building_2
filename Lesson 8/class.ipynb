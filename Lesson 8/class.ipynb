{
 "cells": [
  {
   "cell_type": "code",
   "execution_count": 83,
   "id": "ba99db21",
   "metadata": {},
   "outputs": [],
   "source": [
    "import pandas as pd\n",
    "from sklearn.preprocessing import LabelEncoder, MinMaxScaler"
   ]
  },
  {
   "cell_type": "code",
   "execution_count": 84,
   "id": "05b4a395",
   "metadata": {},
   "outputs": [],
   "source": [
    "df = pd.read_csv('dataset.csv')"
   ]
  },
  {
   "cell_type": "code",
   "execution_count": 85,
   "id": "eee03619",
   "metadata": {},
   "outputs": [
    {
     "name": "stdout",
     "output_type": "stream",
     "text": [
      "<class 'pandas.core.frame.DataFrame'>\n",
      "RangeIndex: 1470 entries, 0 to 1469\n",
      "Data columns (total 35 columns):\n",
      " #   Column                    Non-Null Count  Dtype  \n",
      "---  ------                    --------------  -----  \n",
      " 0   Age                       1470 non-null   int64  \n",
      " 1   Attrition                 1470 non-null   object \n",
      " 2   BusinessTravel            1469 non-null   object \n",
      " 3   DailyRate                 1470 non-null   int64  \n",
      " 4   Department                1468 non-null   object \n",
      " 5   DistanceFromHome          1470 non-null   int64  \n",
      " 6   Education                 1469 non-null   float64\n",
      " 7   EducationField            1470 non-null   object \n",
      " 8   EmployeeCount             1469 non-null   float64\n",
      " 9   EmployeeNumber            1470 non-null   int64  \n",
      " 10  EnvironmentSatisfaction   1469 non-null   float64\n",
      " 11  Gender                    1469 non-null   object \n",
      " 12  HourlyRate                1468 non-null   float64\n",
      " 13  JobInvolvement            1470 non-null   int64  \n",
      " 14  JobLevel                  1470 non-null   int64  \n",
      " 15  JobRole                   1470 non-null   object \n",
      " 16  JobSatisfaction           1470 non-null   int64  \n",
      " 17  MaritalStatus             1470 non-null   object \n",
      " 18  MonthlyIncome             1467 non-null   float64\n",
      " 19  MonthlyRate               1470 non-null   int64  \n",
      " 20  NumCompaniesWorked        1470 non-null   int64  \n",
      " 21  Over18                    1470 non-null   object \n",
      " 22  OverTime                  1470 non-null   object \n",
      " 23  PercentSalaryHike         1470 non-null   int64  \n",
      " 24  PerformanceRating         1470 non-null   int64  \n",
      " 25  RelationshipSatisfaction  1470 non-null   int64  \n",
      " 26  StandardHours             1470 non-null   int64  \n",
      " 27  StockOptionLevel          1470 non-null   int64  \n",
      " 28  TotalWorkingYears         1470 non-null   int64  \n",
      " 29  TrainingTimesLastYear     1470 non-null   int64  \n",
      " 30  WorkLifeBalance           1470 non-null   int64  \n",
      " 31  YearsAtCompany            1470 non-null   int64  \n",
      " 32  YearsInCurrentRole        1470 non-null   int64  \n",
      " 33  YearsSinceLastPromotion   1470 non-null   int64  \n",
      " 34  YearsWithCurrManager      1470 non-null   int64  \n",
      "dtypes: float64(5), int64(21), object(9)\n",
      "memory usage: 402.1+ KB\n"
     ]
    }
   ],
   "source": [
    "df.info()"
   ]
  },
  {
   "cell_type": "code",
   "execution_count": 86,
   "id": "4f74eb5e",
   "metadata": {},
   "outputs": [],
   "source": [
    "class DataPreprocessor():\n",
    "    def __init__(self, df):\n",
    "        self.df = df.copy()\n",
    "        self.encoder = LabelEncoder()\n",
    "        self.scaler = MinMaxScaler()\n",
    "\n",
    "    def fillMissingValues(self):\n",
    "        for col in self.df.columns:\n",
    "            if self.df[col].isnull().any():\n",
    "                if self.df[col].dtype == 'object':\n",
    "                    self.df[col].fillna(self.df[col].mode()[0], inplace=True)\n",
    "                else:\n",
    "                    self.df[col].fillna(self.df[col].mean(), inplace=True)\n",
    "        return self\n",
    "    \n",
    "    def encode(self):\n",
    "        for col in self.df.columns:\n",
    "            if self.df[col].dtype == 'object':\n",
    "                if self.df[col].nunique() <= 5:\n",
    "                    dummies = pd.get_dummies(self.df[col], prefix=col, dtype=int)\n",
    "                    self.df = pd.concat([self.df.drop(columns=[col]), dummies], axis=1)\n",
    "                else:\n",
    "                    self.df[col] = self.encoder.fit_transform(self.df[col])\n",
    "        return self\n",
    "    \n",
    "    def scale(self):\n",
    "        num_col = self.df.select_dtypes(include=['float64', 'int64']).columns.drop('MonthlyIncome')\n",
    "        self.df[num_col] = self.scaler.fit_transform(self.df[num_col])\n",
    "        return self"
   ]
  },
  {
   "cell_type": "code",
   "execution_count": 87,
   "id": "b030824f",
   "metadata": {},
   "outputs": [
    {
     "name": "stderr",
     "output_type": "stream",
     "text": [
      "C:\\Users\\user\\AppData\\Local\\Temp\\ipykernel_18944\\273661221.py:11: FutureWarning: A value is trying to be set on a copy of a DataFrame or Series through chained assignment using an inplace method.\n",
      "The behavior will change in pandas 3.0. This inplace method will never work because the intermediate object on which we are setting values always behaves as a copy.\n",
      "\n",
      "For example, when doing 'df[col].method(value, inplace=True)', try using 'df.method({col: value}, inplace=True)' or df[col] = df[col].method(value) instead, to perform the operation inplace on the original object.\n",
      "\n",
      "\n",
      "  self.df[col].fillna(self.df[col].mode()[0], inplace=True)\n",
      "C:\\Users\\user\\AppData\\Local\\Temp\\ipykernel_18944\\273661221.py:13: FutureWarning: A value is trying to be set on a copy of a DataFrame or Series through chained assignment using an inplace method.\n",
      "The behavior will change in pandas 3.0. This inplace method will never work because the intermediate object on which we are setting values always behaves as a copy.\n",
      "\n",
      "For example, when doing 'df[col].method(value, inplace=True)', try using 'df.method({col: value}, inplace=True)' or df[col] = df[col].method(value) instead, to perform the operation inplace on the original object.\n",
      "\n",
      "\n",
      "  self.df[col].fillna(self.df[col].mean(), inplace=True)\n"
     ]
    }
   ],
   "source": [
    "data_preprocessor = DataPreprocessor(df)\n",
    "data_preprocessor.fillMissingValues().encode().scale()\n",
    "df = data_preprocessor.df"
   ]
  },
  {
   "cell_type": "code",
   "execution_count": 88,
   "id": "a63047f4",
   "metadata": {},
   "outputs": [
    {
     "name": "stdout",
     "output_type": "stream",
     "text": [
      "<class 'pandas.core.frame.DataFrame'>\n",
      "RangeIndex: 1470 entries, 0 to 1469\n",
      "Data columns (total 44 columns):\n",
      " #   Column                             Non-Null Count  Dtype  \n",
      "---  ------                             --------------  -----  \n",
      " 0   Age                                1470 non-null   float64\n",
      " 1   DailyRate                          1470 non-null   float64\n",
      " 2   DistanceFromHome                   1470 non-null   float64\n",
      " 3   Education                          1470 non-null   float64\n",
      " 4   EducationField                     1470 non-null   float64\n",
      " 5   EmployeeCount                      1470 non-null   float64\n",
      " 6   EmployeeNumber                     1470 non-null   float64\n",
      " 7   EnvironmentSatisfaction            1470 non-null   float64\n",
      " 8   HourlyRate                         1470 non-null   float64\n",
      " 9   JobInvolvement                     1470 non-null   float64\n",
      " 10  JobLevel                           1470 non-null   float64\n",
      " 11  JobRole                            1470 non-null   float64\n",
      " 12  JobSatisfaction                    1470 non-null   float64\n",
      " 13  MonthlyIncome                      1470 non-null   float64\n",
      " 14  MonthlyRate                        1470 non-null   float64\n",
      " 15  NumCompaniesWorked                 1470 non-null   float64\n",
      " 16  PercentSalaryHike                  1470 non-null   float64\n",
      " 17  PerformanceRating                  1470 non-null   float64\n",
      " 18  RelationshipSatisfaction           1470 non-null   float64\n",
      " 19  StandardHours                      1470 non-null   float64\n",
      " 20  StockOptionLevel                   1470 non-null   float64\n",
      " 21  TotalWorkingYears                  1470 non-null   float64\n",
      " 22  TrainingTimesLastYear              1470 non-null   float64\n",
      " 23  WorkLifeBalance                    1470 non-null   float64\n",
      " 24  YearsAtCompany                     1470 non-null   float64\n",
      " 25  YearsInCurrentRole                 1470 non-null   float64\n",
      " 26  YearsSinceLastPromotion            1470 non-null   float64\n",
      " 27  YearsWithCurrManager               1470 non-null   float64\n",
      " 28  Attrition_No                       1470 non-null   float64\n",
      " 29  Attrition_Yes                      1470 non-null   float64\n",
      " 30  BusinessTravel_Non-Travel          1470 non-null   float64\n",
      " 31  BusinessTravel_Travel_Frequently   1470 non-null   float64\n",
      " 32  BusinessTravel_Travel_Rarely       1470 non-null   float64\n",
      " 33  Department_Human_Resources         1470 non-null   float64\n",
      " 34  Department_Research_&_Development  1470 non-null   float64\n",
      " 35  Department_Sales                   1470 non-null   float64\n",
      " 36  Gender_Female                      1470 non-null   float64\n",
      " 37  Gender_Male                        1470 non-null   float64\n",
      " 38  MaritalStatus_Divorced             1470 non-null   float64\n",
      " 39  MaritalStatus_Married              1470 non-null   float64\n",
      " 40  MaritalStatus_Single               1470 non-null   float64\n",
      " 41  Over18_Y                           1470 non-null   float64\n",
      " 42  OverTime_No                        1470 non-null   float64\n",
      " 43  OverTime_Yes                       1470 non-null   float64\n",
      "dtypes: float64(44)\n",
      "memory usage: 505.4 KB\n"
     ]
    }
   ],
   "source": [
    "df.info()"
   ]
  },
  {
   "cell_type": "code",
   "execution_count": 89,
   "id": "6d0ba9ea",
   "metadata": {},
   "outputs": [
    {
     "data": {
      "text/html": [
       "<div>\n",
       "<style scoped>\n",
       "    .dataframe tbody tr th:only-of-type {\n",
       "        vertical-align: middle;\n",
       "    }\n",
       "\n",
       "    .dataframe tbody tr th {\n",
       "        vertical-align: top;\n",
       "    }\n",
       "\n",
       "    .dataframe thead th {\n",
       "        text-align: right;\n",
       "    }\n",
       "</style>\n",
       "<table border=\"1\" class=\"dataframe\">\n",
       "  <thead>\n",
       "    <tr style=\"text-align: right;\">\n",
       "      <th></th>\n",
       "      <th>Age</th>\n",
       "      <th>DailyRate</th>\n",
       "      <th>DistanceFromHome</th>\n",
       "      <th>Education</th>\n",
       "      <th>EducationField</th>\n",
       "      <th>EmployeeCount</th>\n",
       "      <th>EmployeeNumber</th>\n",
       "      <th>EnvironmentSatisfaction</th>\n",
       "      <th>HourlyRate</th>\n",
       "      <th>JobInvolvement</th>\n",
       "      <th>...</th>\n",
       "      <th>Department_Research_&amp;_Development</th>\n",
       "      <th>Department_Sales</th>\n",
       "      <th>Gender_Female</th>\n",
       "      <th>Gender_Male</th>\n",
       "      <th>MaritalStatus_Divorced</th>\n",
       "      <th>MaritalStatus_Married</th>\n",
       "      <th>MaritalStatus_Single</th>\n",
       "      <th>Over18_Y</th>\n",
       "      <th>OverTime_No</th>\n",
       "      <th>OverTime_Yes</th>\n",
       "    </tr>\n",
       "  </thead>\n",
       "  <tbody>\n",
       "    <tr>\n",
       "      <th>0</th>\n",
       "      <td>0.547619</td>\n",
       "      <td>0.715820</td>\n",
       "      <td>0.000000</td>\n",
       "      <td>0.25</td>\n",
       "      <td>0.2</td>\n",
       "      <td>0.0</td>\n",
       "      <td>0.000000</td>\n",
       "      <td>0.333333</td>\n",
       "      <td>0.914286</td>\n",
       "      <td>0.666667</td>\n",
       "      <td>...</td>\n",
       "      <td>0.0</td>\n",
       "      <td>1.0</td>\n",
       "      <td>1.0</td>\n",
       "      <td>0.0</td>\n",
       "      <td>0.0</td>\n",
       "      <td>0.0</td>\n",
       "      <td>1.0</td>\n",
       "      <td>0.0</td>\n",
       "      <td>0.0</td>\n",
       "      <td>1.0</td>\n",
       "    </tr>\n",
       "    <tr>\n",
       "      <th>1</th>\n",
       "      <td>0.738095</td>\n",
       "      <td>0.126700</td>\n",
       "      <td>0.250000</td>\n",
       "      <td>0.00</td>\n",
       "      <td>0.2</td>\n",
       "      <td>0.0</td>\n",
       "      <td>0.000484</td>\n",
       "      <td>0.666667</td>\n",
       "      <td>0.442857</td>\n",
       "      <td>0.333333</td>\n",
       "      <td>...</td>\n",
       "      <td>1.0</td>\n",
       "      <td>0.0</td>\n",
       "      <td>0.0</td>\n",
       "      <td>1.0</td>\n",
       "      <td>0.0</td>\n",
       "      <td>1.0</td>\n",
       "      <td>0.0</td>\n",
       "      <td>0.0</td>\n",
       "      <td>1.0</td>\n",
       "      <td>0.0</td>\n",
       "    </tr>\n",
       "    <tr>\n",
       "      <th>2</th>\n",
       "      <td>0.452381</td>\n",
       "      <td>0.909807</td>\n",
       "      <td>0.035714</td>\n",
       "      <td>0.25</td>\n",
       "      <td>0.8</td>\n",
       "      <td>0.0</td>\n",
       "      <td>0.001451</td>\n",
       "      <td>1.000000</td>\n",
       "      <td>0.885714</td>\n",
       "      <td>0.333333</td>\n",
       "      <td>...</td>\n",
       "      <td>1.0</td>\n",
       "      <td>0.0</td>\n",
       "      <td>0.0</td>\n",
       "      <td>1.0</td>\n",
       "      <td>0.0</td>\n",
       "      <td>0.0</td>\n",
       "      <td>1.0</td>\n",
       "      <td>0.0</td>\n",
       "      <td>0.0</td>\n",
       "      <td>1.0</td>\n",
       "    </tr>\n",
       "    <tr>\n",
       "      <th>3</th>\n",
       "      <td>0.357143</td>\n",
       "      <td>0.923407</td>\n",
       "      <td>0.071429</td>\n",
       "      <td>0.75</td>\n",
       "      <td>0.2</td>\n",
       "      <td>0.0</td>\n",
       "      <td>0.001935</td>\n",
       "      <td>1.000000</td>\n",
       "      <td>0.371429</td>\n",
       "      <td>0.666667</td>\n",
       "      <td>...</td>\n",
       "      <td>1.0</td>\n",
       "      <td>0.0</td>\n",
       "      <td>1.0</td>\n",
       "      <td>0.0</td>\n",
       "      <td>0.0</td>\n",
       "      <td>1.0</td>\n",
       "      <td>0.0</td>\n",
       "      <td>0.0</td>\n",
       "      <td>0.0</td>\n",
       "      <td>1.0</td>\n",
       "    </tr>\n",
       "    <tr>\n",
       "      <th>4</th>\n",
       "      <td>0.214286</td>\n",
       "      <td>0.350036</td>\n",
       "      <td>0.035714</td>\n",
       "      <td>0.00</td>\n",
       "      <td>0.6</td>\n",
       "      <td>0.0</td>\n",
       "      <td>0.002903</td>\n",
       "      <td>0.000000</td>\n",
       "      <td>0.142857</td>\n",
       "      <td>0.666667</td>\n",
       "      <td>...</td>\n",
       "      <td>1.0</td>\n",
       "      <td>0.0</td>\n",
       "      <td>0.0</td>\n",
       "      <td>1.0</td>\n",
       "      <td>0.0</td>\n",
       "      <td>1.0</td>\n",
       "      <td>0.0</td>\n",
       "      <td>0.0</td>\n",
       "      <td>1.0</td>\n",
       "      <td>0.0</td>\n",
       "    </tr>\n",
       "    <tr>\n",
       "      <th>5</th>\n",
       "      <td>0.333333</td>\n",
       "      <td>0.646385</td>\n",
       "      <td>0.035714</td>\n",
       "      <td>0.25</td>\n",
       "      <td>0.2</td>\n",
       "      <td>0.0</td>\n",
       "      <td>0.003387</td>\n",
       "      <td>1.000000</td>\n",
       "      <td>0.700000</td>\n",
       "      <td>0.666667</td>\n",
       "      <td>...</td>\n",
       "      <td>1.0</td>\n",
       "      <td>0.0</td>\n",
       "      <td>0.0</td>\n",
       "      <td>1.0</td>\n",
       "      <td>0.0</td>\n",
       "      <td>0.0</td>\n",
       "      <td>1.0</td>\n",
       "      <td>0.0</td>\n",
       "      <td>1.0</td>\n",
       "      <td>0.0</td>\n",
       "    </tr>\n",
       "    <tr>\n",
       "      <th>6</th>\n",
       "      <td>0.976190</td>\n",
       "      <td>0.874732</td>\n",
       "      <td>0.071429</td>\n",
       "      <td>0.50</td>\n",
       "      <td>0.6</td>\n",
       "      <td>0.0</td>\n",
       "      <td>0.004354</td>\n",
       "      <td>0.666667</td>\n",
       "      <td>0.728571</td>\n",
       "      <td>1.000000</td>\n",
       "      <td>...</td>\n",
       "      <td>1.0</td>\n",
       "      <td>0.0</td>\n",
       "      <td>1.0</td>\n",
       "      <td>0.0</td>\n",
       "      <td>0.0</td>\n",
       "      <td>1.0</td>\n",
       "      <td>0.0</td>\n",
       "      <td>0.0</td>\n",
       "      <td>0.0</td>\n",
       "      <td>1.0</td>\n",
       "    </tr>\n",
       "    <tr>\n",
       "      <th>7</th>\n",
       "      <td>0.285714</td>\n",
       "      <td>0.899069</td>\n",
       "      <td>0.821429</td>\n",
       "      <td>0.00</td>\n",
       "      <td>0.2</td>\n",
       "      <td>0.0</td>\n",
       "      <td>0.004838</td>\n",
       "      <td>1.000000</td>\n",
       "      <td>0.528571</td>\n",
       "      <td>0.666667</td>\n",
       "      <td>...</td>\n",
       "      <td>1.0</td>\n",
       "      <td>0.0</td>\n",
       "      <td>0.0</td>\n",
       "      <td>1.0</td>\n",
       "      <td>1.0</td>\n",
       "      <td>0.0</td>\n",
       "      <td>0.0</td>\n",
       "      <td>0.0</td>\n",
       "      <td>1.0</td>\n",
       "      <td>0.0</td>\n",
       "    </tr>\n",
       "    <tr>\n",
       "      <th>8</th>\n",
       "      <td>0.476190</td>\n",
       "      <td>0.081603</td>\n",
       "      <td>0.785714</td>\n",
       "      <td>0.50</td>\n",
       "      <td>0.2</td>\n",
       "      <td>0.0</td>\n",
       "      <td>0.005322</td>\n",
       "      <td>1.000000</td>\n",
       "      <td>0.200000</td>\n",
       "      <td>0.333333</td>\n",
       "      <td>...</td>\n",
       "      <td>1.0</td>\n",
       "      <td>0.0</td>\n",
       "      <td>0.0</td>\n",
       "      <td>1.0</td>\n",
       "      <td>0.0</td>\n",
       "      <td>0.0</td>\n",
       "      <td>1.0</td>\n",
       "      <td>0.0</td>\n",
       "      <td>1.0</td>\n",
       "      <td>0.0</td>\n",
       "    </tr>\n",
       "    <tr>\n",
       "      <th>9</th>\n",
       "      <td>0.428571</td>\n",
       "      <td>0.856836</td>\n",
       "      <td>0.928571</td>\n",
       "      <td>0.50</td>\n",
       "      <td>0.6</td>\n",
       "      <td>0.0</td>\n",
       "      <td>0.005806</td>\n",
       "      <td>0.666667</td>\n",
       "      <td>0.914286</td>\n",
       "      <td>0.666667</td>\n",
       "      <td>...</td>\n",
       "      <td>1.0</td>\n",
       "      <td>0.0</td>\n",
       "      <td>0.0</td>\n",
       "      <td>1.0</td>\n",
       "      <td>0.0</td>\n",
       "      <td>1.0</td>\n",
       "      <td>0.0</td>\n",
       "      <td>0.0</td>\n",
       "      <td>1.0</td>\n",
       "      <td>0.0</td>\n",
       "    </tr>\n",
       "  </tbody>\n",
       "</table>\n",
       "<p>10 rows × 44 columns</p>\n",
       "</div>"
      ],
      "text/plain": [
       "        Age  DailyRate  DistanceFromHome  Education  EducationField  \\\n",
       "0  0.547619   0.715820          0.000000       0.25             0.2   \n",
       "1  0.738095   0.126700          0.250000       0.00             0.2   \n",
       "2  0.452381   0.909807          0.035714       0.25             0.8   \n",
       "3  0.357143   0.923407          0.071429       0.75             0.2   \n",
       "4  0.214286   0.350036          0.035714       0.00             0.6   \n",
       "5  0.333333   0.646385          0.035714       0.25             0.2   \n",
       "6  0.976190   0.874732          0.071429       0.50             0.6   \n",
       "7  0.285714   0.899069          0.821429       0.00             0.2   \n",
       "8  0.476190   0.081603          0.785714       0.50             0.2   \n",
       "9  0.428571   0.856836          0.928571       0.50             0.6   \n",
       "\n",
       "   EmployeeCount  EmployeeNumber  EnvironmentSatisfaction  HourlyRate  \\\n",
       "0            0.0        0.000000                 0.333333    0.914286   \n",
       "1            0.0        0.000484                 0.666667    0.442857   \n",
       "2            0.0        0.001451                 1.000000    0.885714   \n",
       "3            0.0        0.001935                 1.000000    0.371429   \n",
       "4            0.0        0.002903                 0.000000    0.142857   \n",
       "5            0.0        0.003387                 1.000000    0.700000   \n",
       "6            0.0        0.004354                 0.666667    0.728571   \n",
       "7            0.0        0.004838                 1.000000    0.528571   \n",
       "8            0.0        0.005322                 1.000000    0.200000   \n",
       "9            0.0        0.005806                 0.666667    0.914286   \n",
       "\n",
       "   JobInvolvement  ...  Department_Research_&_Development  Department_Sales  \\\n",
       "0        0.666667  ...                                0.0               1.0   \n",
       "1        0.333333  ...                                1.0               0.0   \n",
       "2        0.333333  ...                                1.0               0.0   \n",
       "3        0.666667  ...                                1.0               0.0   \n",
       "4        0.666667  ...                                1.0               0.0   \n",
       "5        0.666667  ...                                1.0               0.0   \n",
       "6        1.000000  ...                                1.0               0.0   \n",
       "7        0.666667  ...                                1.0               0.0   \n",
       "8        0.333333  ...                                1.0               0.0   \n",
       "9        0.666667  ...                                1.0               0.0   \n",
       "\n",
       "   Gender_Female  Gender_Male  MaritalStatus_Divorced  MaritalStatus_Married  \\\n",
       "0            1.0          0.0                     0.0                    0.0   \n",
       "1            0.0          1.0                     0.0                    1.0   \n",
       "2            0.0          1.0                     0.0                    0.0   \n",
       "3            1.0          0.0                     0.0                    1.0   \n",
       "4            0.0          1.0                     0.0                    1.0   \n",
       "5            0.0          1.0                     0.0                    0.0   \n",
       "6            1.0          0.0                     0.0                    1.0   \n",
       "7            0.0          1.0                     1.0                    0.0   \n",
       "8            0.0          1.0                     0.0                    0.0   \n",
       "9            0.0          1.0                     0.0                    1.0   \n",
       "\n",
       "   MaritalStatus_Single  Over18_Y  OverTime_No  OverTime_Yes  \n",
       "0                   1.0       0.0          0.0           1.0  \n",
       "1                   0.0       0.0          1.0           0.0  \n",
       "2                   1.0       0.0          0.0           1.0  \n",
       "3                   0.0       0.0          0.0           1.0  \n",
       "4                   0.0       0.0          1.0           0.0  \n",
       "5                   1.0       0.0          1.0           0.0  \n",
       "6                   0.0       0.0          0.0           1.0  \n",
       "7                   0.0       0.0          1.0           0.0  \n",
       "8                   1.0       0.0          1.0           0.0  \n",
       "9                   0.0       0.0          1.0           0.0  \n",
       "\n",
       "[10 rows x 44 columns]"
      ]
     },
     "execution_count": 89,
     "metadata": {},
     "output_type": "execute_result"
    }
   ],
   "source": [
    "df.head(10)"
   ]
  },
  {
   "cell_type": "markdown",
   "id": "1e97336b",
   "metadata": {},
   "source": [
    "# Import algorithms"
   ]
  },
  {
   "cell_type": "code",
   "execution_count": 90,
   "id": "7614ba78",
   "metadata": {},
   "outputs": [],
   "source": [
    "from sklearn.linear_model import LinearRegression\n",
    "from sklearn.tree import DecisionTreeRegressor\n",
    "from sklearn.ensemble import RandomForestRegressor\n",
    "from sklearn.svm import SVR\n",
    "from sklearn.neighbors import KNeighborsRegressor"
   ]
  },
  {
   "cell_type": "markdown",
   "id": "7d31f6c6",
   "metadata": {},
   "source": [
    "# Import metrics"
   ]
  },
  {
   "cell_type": "code",
   "execution_count": 91,
   "id": "272f78b8",
   "metadata": {},
   "outputs": [],
   "source": [
    "from sklearn.metrics import r2_score, mean_absolute_error"
   ]
  },
  {
   "cell_type": "markdown",
   "id": "932b7247",
   "metadata": {},
   "source": [
    "# Train/Test split"
   ]
  },
  {
   "cell_type": "code",
   "execution_count": 92,
   "id": "892beff0",
   "metadata": {},
   "outputs": [],
   "source": [
    "from sklearn.model_selection import train_test_split\n",
    "\n",
    "x = df.drop('MonthlyIncome', axis=1)\n",
    "y = df['MonthlyIncome']\n",
    "\n",
    "x_train, x_test, y_train, y_test = train_test_split(x, y, test_size=0.2, random_state=42)"
   ]
  },
  {
   "cell_type": "markdown",
   "id": "e0f9410e",
   "metadata": {},
   "source": [
    "# Linear Regression"
   ]
  },
  {
   "cell_type": "code",
   "execution_count": 93,
   "id": "3e07455b",
   "metadata": {},
   "outputs": [],
   "source": [
    "lr = LinearRegression()\n",
    "\n",
    "lr.fit(x_train, y_train)\n",
    "\n",
    "y_pred = lr.predict(x_test)"
   ]
  },
  {
   "cell_type": "code",
   "execution_count": 94,
   "id": "c17f90de",
   "metadata": {},
   "outputs": [],
   "source": [
    "lr_score = r2_score(y_test, y_pred)\n",
    "lr_mae = mean_absolute_error(y_test, y_pred)"
   ]
  },
  {
   "cell_type": "code",
   "execution_count": 95,
   "id": "a12d5f86",
   "metadata": {},
   "outputs": [
    {
     "data": {
      "text/plain": [
       "0.89565173057562"
      ]
     },
     "execution_count": 95,
     "metadata": {},
     "output_type": "execute_result"
    }
   ],
   "source": [
    "lr_score"
   ]
  },
  {
   "cell_type": "code",
   "execution_count": 96,
   "id": "8e2ab611",
   "metadata": {},
   "outputs": [
    {
     "data": {
      "text/plain": [
       "1165.508960570721"
      ]
     },
     "execution_count": 96,
     "metadata": {},
     "output_type": "execute_result"
    }
   ],
   "source": [
    "lr_mae"
   ]
  },
  {
   "cell_type": "markdown",
   "id": "f887f4d8",
   "metadata": {},
   "source": [
    "# Decision Tree"
   ]
  },
  {
   "cell_type": "code",
   "execution_count": 97,
   "id": "0172f1e7",
   "metadata": {},
   "outputs": [],
   "source": [
    "dt = DecisionTreeRegressor(random_state=42)\n",
    "\n",
    "dt.fit(x_train, y_train)\n",
    "\n",
    "y_pred = dt.predict(x_test)"
   ]
  },
  {
   "cell_type": "code",
   "execution_count": 98,
   "id": "783e1ce3",
   "metadata": {},
   "outputs": [],
   "source": [
    "dt_score = r2_score(y_test, y_pred)\n",
    "dt_mae = mean_absolute_error(y_test, y_pred)"
   ]
  },
  {
   "cell_type": "code",
   "execution_count": 99,
   "id": "c1dbe269",
   "metadata": {},
   "outputs": [
    {
     "data": {
      "text/plain": [
       "0.8842922482630299"
      ]
     },
     "execution_count": 99,
     "metadata": {},
     "output_type": "execute_result"
    }
   ],
   "source": [
    "dt_score"
   ]
  },
  {
   "cell_type": "code",
   "execution_count": 100,
   "id": "8d423389",
   "metadata": {},
   "outputs": [
    {
     "data": {
      "text/plain": [
       "1122.171827831337"
      ]
     },
     "execution_count": 100,
     "metadata": {},
     "output_type": "execute_result"
    }
   ],
   "source": [
    "dt_mae"
   ]
  },
  {
   "cell_type": "markdown",
   "id": "f8dda47f",
   "metadata": {},
   "source": [
    "# Random Forest"
   ]
  },
  {
   "cell_type": "code",
   "execution_count": 101,
   "id": "b20050ec",
   "metadata": {},
   "outputs": [],
   "source": [
    "rf = RandomForestRegressor(random_state=42)\n",
    "\n",
    "rf.fit(x_train, y_train)\n",
    "\n",
    "y_pred = rf.predict(x_test)"
   ]
  },
  {
   "cell_type": "code",
   "execution_count": 102,
   "id": "876114ce",
   "metadata": {},
   "outputs": [],
   "source": [
    "rf_score = r2_score(y_test, y_pred)\n",
    "rf_mae = mean_absolute_error(y_test, y_pred)"
   ]
  },
  {
   "cell_type": "code",
   "execution_count": 103,
   "id": "6cdf7bdf",
   "metadata": {},
   "outputs": [
    {
     "data": {
      "text/plain": [
       "0.9294338393465874"
      ]
     },
     "execution_count": 103,
     "metadata": {},
     "output_type": "execute_result"
    }
   ],
   "source": [
    "rf_score"
   ]
  },
  {
   "cell_type": "code",
   "execution_count": 104,
   "id": "c8e5d40a",
   "metadata": {},
   "outputs": [
    {
     "data": {
      "text/plain": [
       "919.8511486025903"
      ]
     },
     "execution_count": 104,
     "metadata": {},
     "output_type": "execute_result"
    }
   ],
   "source": [
    "rf_mae"
   ]
  },
  {
   "cell_type": "markdown",
   "id": "4993246d",
   "metadata": {},
   "source": [
    "# SVM"
   ]
  },
  {
   "cell_type": "code",
   "execution_count": 105,
   "id": "7d16e08d",
   "metadata": {},
   "outputs": [],
   "source": [
    "svc = SVR(kernel='linear', C=0.5)\n",
    "\n",
    "svc.fit(x_train, y_train)\n",
    "\n",
    "y_pred = svc.predict(x_test)"
   ]
  },
  {
   "cell_type": "code",
   "execution_count": 106,
   "id": "5e02e5b8",
   "metadata": {},
   "outputs": [],
   "source": [
    "svc_score = r2_score(y_test, y_pred)\n",
    "svc_mae = mean_absolute_error(y_test, y_pred)"
   ]
  },
  {
   "cell_type": "code",
   "execution_count": 107,
   "id": "0043cc44",
   "metadata": {},
   "outputs": [
    {
     "data": {
      "text/plain": [
       "-0.2040860579495889"
      ]
     },
     "execution_count": 107,
     "metadata": {},
     "output_type": "execute_result"
    }
   ],
   "source": [
    "svc_score"
   ]
  },
  {
   "cell_type": "code",
   "execution_count": 108,
   "id": "558b3017",
   "metadata": {},
   "outputs": [
    {
     "data": {
      "text/plain": [
       "3336.6535369453945"
      ]
     },
     "execution_count": 108,
     "metadata": {},
     "output_type": "execute_result"
    }
   ],
   "source": [
    "svc_mae"
   ]
  },
  {
   "cell_type": "markdown",
   "id": "9c3be5d5",
   "metadata": {},
   "source": [
    "# KNN"
   ]
  },
  {
   "cell_type": "code",
   "execution_count": 109,
   "id": "9da1ec83",
   "metadata": {},
   "outputs": [],
   "source": [
    "knn = KNeighborsRegressor(n_neighbors=3)\n",
    "\n",
    "knn.fit(x_train, y_train)\n",
    "\n",
    "y_pred = knn.predict(x_test)"
   ]
  },
  {
   "cell_type": "code",
   "execution_count": 110,
   "id": "2cfc7cf6",
   "metadata": {},
   "outputs": [],
   "source": [
    "knn_score = r2_score(y_test, y_pred)\n",
    "knn_mae = mean_absolute_error(y_test, y_pred)"
   ]
  },
  {
   "cell_type": "code",
   "execution_count": 111,
   "id": "99fa63ca",
   "metadata": {},
   "outputs": [
    {
     "data": {
      "text/plain": [
       "0.30915807785708327"
      ]
     },
     "execution_count": 111,
     "metadata": {},
     "output_type": "execute_result"
    }
   ],
   "source": [
    "knn_score"
   ]
  },
  {
   "cell_type": "code",
   "execution_count": 112,
   "id": "8d1203f6",
   "metadata": {},
   "outputs": [
    {
     "data": {
      "text/plain": [
       "2692.069121581829"
      ]
     },
     "execution_count": 112,
     "metadata": {},
     "output_type": "execute_result"
    }
   ],
   "source": [
    "knn_mae"
   ]
  },
  {
   "cell_type": "markdown",
   "id": "e5eddfb3",
   "metadata": {},
   "source": [
    "# Tabulate"
   ]
  },
  {
   "cell_type": "code",
   "execution_count": 113,
   "id": "6db7c2d8",
   "metadata": {},
   "outputs": [],
   "source": [
    "from tabulate import tabulate"
   ]
  },
  {
   "cell_type": "code",
   "execution_count": 114,
   "id": "e77cc454",
   "metadata": {},
   "outputs": [],
   "source": [
    "result = [\n",
    "    ['Linear Regression', lr_score, lr_mae],\n",
    "    ['Decision Tree', dt_score, dt_mae],\n",
    "    ['Random Forest', rf_score, rf_mae],\n",
    "    ['SVM', svc_score, svc_mae],\n",
    "    ['KNN', knn_score, knn_mae],\n",
    "]\n",
    "\n",
    "headers = ['Algorithm', 'r2_score', 'mean absolute error']\n",
    "\n",
    "table = tabulate(result, headers=headers, tablefmt='grid', floatfmt='.2f')"
   ]
  },
  {
   "cell_type": "code",
   "execution_count": 115,
   "id": "9c6a22f6",
   "metadata": {},
   "outputs": [
    {
     "name": "stdout",
     "output_type": "stream",
     "text": [
      "+-------------------+------------+-----------------------+\n",
      "| Algorithm         |   r2_score |   mean absolute error |\n",
      "+===================+============+=======================+\n",
      "| Linear Regression |       0.90 |               1165.51 |\n",
      "+-------------------+------------+-----------------------+\n",
      "| Decision Tree     |       0.88 |               1122.17 |\n",
      "+-------------------+------------+-----------------------+\n",
      "| Random Forest     |       0.93 |                919.85 |\n",
      "+-------------------+------------+-----------------------+\n",
      "| SVM               |      -0.20 |               3336.65 |\n",
      "+-------------------+------------+-----------------------+\n",
      "| KNN               |       0.31 |               2692.07 |\n",
      "+-------------------+------------+-----------------------+\n"
     ]
    }
   ],
   "source": [
    "print(table)"
   ]
  }
 ],
 "metadata": {
  "kernelspec": {
   "display_name": "Python 3",
   "language": "python",
   "name": "python3"
  },
  "language_info": {
   "codemirror_mode": {
    "name": "ipython",
    "version": 3
   },
   "file_extension": ".py",
   "mimetype": "text/x-python",
   "name": "python",
   "nbconvert_exporter": "python",
   "pygments_lexer": "ipython3",
   "version": "3.11.9"
  }
 },
 "nbformat": 4,
 "nbformat_minor": 5
}
